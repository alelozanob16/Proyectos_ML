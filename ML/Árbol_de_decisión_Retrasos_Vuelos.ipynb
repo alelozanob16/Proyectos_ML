{
  "nbformat": 4,
  "nbformat_minor": 0,
  "metadata": {
    "colab": {
      "provenance": []
    },
    "kernelspec": {
      "name": "python3",
      "display_name": "Python 3"
    },
    "language_info": {
      "name": "python"
    }
  },
  "cells": [
    {
      "cell_type": "code",
      "source": [
        "from google.colab import drive\n",
        "drive.mount('/content/drive')"
      ],
      "metadata": {
        "id": "ij2vqjtZO4cN",
        "colab": {
          "base_uri": "https://localhost:8080/"
        },
        "outputId": "990eee9e-9242-4688-be61-26bdf02e7bb9"
      },
      "execution_count": null,
      "outputs": [
        {
          "output_type": "stream",
          "name": "stdout",
          "text": [
            "Mounted at /content/drive\n"
          ]
        }
      ]
    },
    {
      "cell_type": "code",
      "source": [
        "ruta_fichero_vuelos = \"/content/drive/MyDrive/Colab Notebooks/flights.csv\"\n",
        "dataset_vuelos = open(ruta_fichero_vuelos, \"r\")"
      ],
      "metadata": {
        "id": "x6iWm8Ra-Z29"
      },
      "execution_count": null,
      "outputs": []
    },
    {
      "cell_type": "code",
      "source": [
        "import pandas as pd\n",
        "dataset_vuelos=pd.read_csv(ruta_fichero_vuelos)\n",
        "#Los tres primero pasos nos han servido para leer el dataset."
      ],
      "metadata": {
        "colab": {
          "base_uri": "https://localhost:8080/"
        },
        "id": "GemQ7G0k-egm",
        "outputId": "68136f12-ba1a-4f0a-e335-fff03a68c1e1"
      },
      "execution_count": null,
      "outputs": [
        {
          "output_type": "stream",
          "name": "stderr",
          "text": [
            "/usr/local/lib/python3.8/dist-packages/IPython/core/interactiveshell.py:3326: DtypeWarning: Columns (7,8) have mixed types.Specify dtype option on import or set low_memory=False.\n",
            "  exec(code_obj, self.user_global_ns, self.user_ns)\n"
          ]
        }
      ]
    },
    {
      "cell_type": "code",
      "source": [
        "dataset_vuelos.columns\n",
        "#Nos fijamos en las variables que nos servirán para hacer el modelo."
      ],
      "metadata": {
        "colab": {
          "base_uri": "https://localhost:8080/"
        },
        "id": "eidAXww--fCd",
        "outputId": "53e0bf20-153f-4b62-f218-3bf4883f7086"
      },
      "execution_count": null,
      "outputs": [
        {
          "output_type": "execute_result",
          "data": {
            "text/plain": [
              "Index(['YEAR', 'MONTH', 'DAY', 'DAY_OF_WEEK', 'AIRLINE', 'FLIGHT_NUMBER',\n",
              "       'TAIL_NUMBER', 'ORIGIN_AIRPORT', 'DESTINATION_AIRPORT',\n",
              "       'SCHEDULED_DEPARTURE', 'DEPARTURE_TIME', 'DEPARTURE_DELAY', 'TAXI_OUT',\n",
              "       'WHEELS_OFF', 'SCHEDULED_TIME', 'ELAPSED_TIME', 'AIR_TIME', 'DISTANCE',\n",
              "       'WHEELS_ON', 'TAXI_IN', 'SCHEDULED_ARRIVAL', 'ARRIVAL_TIME',\n",
              "       'ARRIVAL_DELAY', 'DIVERTED', 'CANCELLED', 'CANCELLATION_REASON',\n",
              "       'AIR_SYSTEM_DELAY', 'SECURITY_DELAY', 'AIRLINE_DELAY',\n",
              "       'LATE_AIRCRAFT_DELAY', 'WEATHER_DELAY'],\n",
              "      dtype='object')"
            ]
          },
          "metadata": {},
          "execution_count": 4
        }
      ]
    },
    {
      "cell_type": "code",
      "source": [
        "dataset_vuelos[\"ARRIVAL_DELAY\"].hist()\n",
        "dataset_vuelos['ARRIVAL_DELAY'].describe()\n",
        "#Esto lo hemos hecho para ver en que valores se mueve la variable de \"ARRIVAL_DELAY\". Vemos como existe un outlier de 1971 min de retrasos que distorsiona el histograma."
      ],
      "metadata": {
        "colab": {
          "base_uri": "https://localhost:8080/",
          "height": 432
        },
        "id": "zpvqE9vu-itq",
        "outputId": "2c7332ca-e396-4359-831b-10814fb63acc"
      },
      "execution_count": null,
      "outputs": [
        {
          "output_type": "execute_result",
          "data": {
            "text/plain": [
              "count    5.714008e+06\n",
              "mean     4.407057e+00\n",
              "std      3.927130e+01\n",
              "min     -8.700000e+01\n",
              "25%     -1.300000e+01\n",
              "50%     -5.000000e+00\n",
              "75%      8.000000e+00\n",
              "max      1.971000e+03\n",
              "Name: ARRIVAL_DELAY, dtype: float64"
            ]
          },
          "metadata": {},
          "execution_count": 5
        },
        {
          "output_type": "display_data",
          "data": {
            "text/plain": [
              "<Figure size 432x288 with 1 Axes>"
            ],
            "image/png": "[encoded data removed]"
          },
          "metadata": {
            "needs_background": "light"
          }
        }
      ]
    },
    {
      "cell_type": "code",
      "source": [
        "dataset_vuelos[(dataset_vuelos[\"ARRIVAL_DELAY\"] > 0) & (dataset_vuelos[\"ARRIVAL_DELAY\"] < 200)] [\"ARRIVAL_DELAY\"].hist()\n",
        "dataset_vuelos[(dataset_vuelos[\"ARRIVAL_DELAY\"] > 0) & (dataset_vuelos[\"ARRIVAL_DELAY\"] < 200)] [\"ARRIVAL_DELAY\"].describe()"
      ],
      "metadata": {
        "colab": {
          "base_uri": "https://localhost:8080/",
          "height": 432
        },
        "id": "oyXaruAT-p3y",
        "outputId": "7b8a1a65-e817-42f3-f4ea-05fe265f75a7"
      },
      "execution_count": null,
      "outputs": [
        {
          "output_type": "execute_result",
          "data": {
            "text/plain": [
              "count    2.050522e+06\n",
              "mean     2.840547e+01\n",
              "std      3.532075e+01\n",
              "min      1.000000e+00\n",
              "25%      6.000000e+00\n",
              "50%      1.500000e+01\n",
              "75%      3.600000e+01\n",
              "max      1.990000e+02\n",
              "Name: ARRIVAL_DELAY, dtype: float64"
            ]
          },
          "metadata": {},
          "execution_count": 6
        },
        {
          "output_type": "display_data",
          "data": {
            "text/plain": [
              "<Figure size 432x288 with 1 Axes>"
            ],
            "image/png": "[encoded data removed]"
          },
          "metadata": {
            "needs_background": "light"
          }
        }
      ]
    },
    {
      "cell_type": "code",
      "source": [
        "dataset_vuelos[\"RETRASO\"] = dataset_vuelos.ARRIVAL_DELAY > 15\n",
        "dataset_vuelos.RETRASO"
      ],
      "metadata": {
        "colab": {
          "base_uri": "https://localhost:8080/"
        },
        "id": "GqloKJhO-sTz",
        "outputId": "535de263-b236-49e9-ee8d-26a5edce81c9"
      },
      "execution_count": null,
      "outputs": [
        {
          "output_type": "execute_result",
          "data": {
            "text/plain": [
              "0          False\n",
              "1          False\n",
              "2          False\n",
              "3          False\n",
              "4          False\n",
              "           ...  \n",
              "5819074    False\n",
              "5819075    False\n",
              "5819076    False\n",
              "5819077    False\n",
              "5819078    False\n",
              "Name: RETRASO, Length: 5819079, dtype: bool"
            ]
          },
          "metadata": {},
          "execution_count": 7
        }
      ]
    },
    {
      "cell_type": "code",
      "source": [
        "vuelos_no_cancelados = dataset_vuelos[(dataset_vuelos.CANCELLED == 0) & (dataset_vuelos.DIVERTED == 0)].sample(frac=0.02).copy()\n",
        "vuelos_no_cancelados[\"SCHEDULED_DEPARTURE\"] = vuelos_no_cancelados[\"SCHEDULED_DEPARTURE\"].apply(lambda x: int('{0:0>4}'.format(x)[0:2]))\n",
        "vuelos_no_cancelados[\"SCHEDULED_ARRIVAL\"] = vuelos_no_cancelados[\"SCHEDULED_ARRIVAL\"].apply(lambda x: int('{0:0>4}'.format(x)[0:2]))\n",
        "vuelo_retraso_x = vuelos_no_cancelados[[\"MONTH\", \"DAY\", \"DAY_OF_WEEK\", \"AIRLINE\", \"ORIGIN_AIRPORT\", \"DESTINATION_AIRPORT\", \"SCHEDULED_DEPARTURE\", \"SCHEDULED_TIME\", \"SCHEDULED_ARRIVAL\"]]\n",
        "retraso_x_dummies = pd.get_dummies(data = vuelo_retraso_x , columns = [\"MONTH\", \"DAY_OF_WEEK\", \"AIRLINE\", \"ORIGIN_AIRPORT\", \"DESTINATION_AIRPORT\"])"
      ],
      "metadata": {
        "id": "VEuclaDL-wtV"
      },
      "execution_count": null,
      "outputs": []
    },
    {
      "cell_type": "code",
      "source": [
        "from sklearn.model_selection import train_test_split\n",
        "train_x, test_x, train_y, test_y = train_test_split(retraso_x_dummies, vuelos_no_cancelados.RETRASO, test_size = 0.25, random_state = 123)\n",
        "from sklearn.tree import DecisionTreeClassifier\n",
        "dtc = DecisionTreeClassifier(max_depth=50)\n",
        "modelRetraso = dtc.fit(train_x, train_y)\n",
        "dtc.score(test_x, test_y)"
      ],
      "metadata": {
        "colab": {
          "base_uri": "https://localhost:8080/"
        },
        "id": "YDalA-Bk-4X_",
        "outputId": "1f70ca67-98a7-435e-d2f4-192e2adbfd20"
      },
      "execution_count": null,
      "outputs": [
        {
          "output_type": "execute_result",
          "data": {
            "text/plain": [
              "0.7652432621631081"
            ]
          },
          "metadata": {},
          "execution_count": 10
        }
      ]
    },
    {
      "cell_type": "code",
      "source": [
        "from sklearn.metrics import confusion_matrix\n",
        "confusion_matrix(test_y, dtc.predict(test_x))"
      ],
      "metadata": {
        "colab": {
          "base_uri": "https://localhost:8080/"
        },
        "id": "52NbV3nb-8Fg",
        "outputId": "8e99ee51-50a8-4b15-f7d6-434b632dde16"
      },
      "execution_count": null,
      "outputs": [
        {
          "output_type": "execute_result",
          "data": {
            "text/plain": [
              "array([[20843,  2676],\n",
              "       [ 4031,  1020]])"
            ]
          },
          "metadata": {},
          "execution_count": 11
        }
      ]
    },
    {
      "cell_type": "code",
      "source": [
        "from sklearn import model_selection\n",
        "from sklearn.model_selection import KFold\n",
        "kfold = model_selection.KFold(n_splits = 10)"
      ],
      "metadata": {
        "id": "8vEVGGq9XSmH"
      },
      "execution_count": null,
      "outputs": []
    },
    {
      "cell_type": "code",
      "source": [
        "from sklearn.model_selection import train_test_split\n",
        "for depth in range(1, 20):\n",
        "    model_kfold = DecisionTreeClassifier(max_depth=depth)\n",
        "    results_kfold = model_selection.cross_val_score(model_kfold, retraso_x_dummies, vuelos_no_cancelados.RETRASO, cv = kfold)\n",
        "    print('Profundidad: ' + str(depth) + \" - \" + str(results_kfold.mean()))"
      ],
      "metadata": {
        "colab": {
          "base_uri": "https://localhost:8080/"
        },
        "id": "1oO1flon136h",
        "outputId": "7bf59514-5410-4031-fbf9-05bfc73e717d"
      },
      "execution_count": null,
      "outputs": [
        {
          "output_type": "stream",
          "name": "stdout",
          "text": [
            "Profundidad: 1 - 0.8207385369268463\n",
            "Profundidad: 2 - 0.8207385369268463\n",
            "Profundidad: 3 - 0.8207385369268463\n",
            "Profundidad: 4 - 0.8207297864893246\n",
            "Profundidad: 5 - 0.8206685334266715\n",
            "Profundidad: 6 - 0.8203447672383619\n",
            "Profundidad: 7 - 0.8196884844242212\n",
            "Profundidad: 8 - 0.8192947147357368\n",
            "Profundidad: 9 - 0.8187259362968149\n",
            "Profundidad: 10 - 0.817728386419321\n",
            "Profundidad: 11 - 0.8167308365418272\n",
            "Profundidad: 12 - 0.8161008050402521\n",
            "Profundidad: 13 - 0.8145869793489675\n",
            "Profundidad: 14 - 0.8132569128456423\n",
            "Profundidad: 15 - 0.8117780889044452\n",
            "Profundidad: 16 - 0.8100192509625481\n",
            "Profundidad: 17 - 0.808129156457823\n",
            "Profundidad: 18 - 0.8065890794539726\n",
            "Profundidad: 19 - 0.8049964998249912\n"
          ]
        }
      ]
    },
    {
      "cell_type": "code",
      "source": [
        "results_kfold"
      ],
      "metadata": {
        "colab": {
          "base_uri": "https://localhost:8080/"
        },
        "id": "d43MexIZJd7Q",
        "outputId": "061900e9-fd36-4b16-d24a-e85331a212e2"
      },
      "execution_count": null,
      "outputs": [
        {
          "output_type": "execute_result",
          "data": {
            "text/plain": [
              "array([0.80232762, 0.80556528, 0.80110256, 0.81291565, 0.80311516,\n",
              "       0.80145257, 0.80469023, 0.80714036, 0.8060028 , 0.80565278])"
            ]
          },
          "metadata": {},
          "execution_count": 14
        }
      ]
    },
    {
      "cell_type": "code",
      "source": [
        "results_kfold.mean()"
      ],
      "metadata": {
        "colab": {
          "base_uri": "https://localhost:8080/"
        },
        "id": "Zk9lu3KJJhgJ",
        "outputId": "f5d2ea07-6171-42a6-9dc0-183a64e6f83c"
      },
      "execution_count": null,
      "outputs": [
        {
          "output_type": "execute_result",
          "data": {
            "text/plain": [
              "0.8049964998249912"
            ]
          },
          "metadata": {},
          "execution_count": 15
        }
      ]
    },
    {
      "cell_type": "code",
      "source": [
        "from sklearn.model_selection import train_test_split\n",
        "train_x, test_x, train_y, test_y = train_test_split(retraso_x_dummies, vuelos_no_cancelados.RETRASO, test_size = 0.25, random_state = 123)\n",
        "from sklearn.tree import DecisionTreeClassifier\n",
        "for depth in [2, 3, 4, 5, 6, 10, 20, 30]:\n",
        "  dtc = DecisionTreeClassifier(max_depth=depth)\n",
        "  modelRetraso = dtc.fit(train_x, train_y)\n",
        "  print(dtc.score(test_x, test_y))\n",
        "\n",
        "\n"
      ],
      "metadata": {
        "colab": {
          "base_uri": "https://localhost:8080/"
        },
        "id": "ZQ_sGnW459N_",
        "outputId": "c7de6874-6c96-4259-a28b-9ed14620214a"
      },
      "execution_count": null,
      "outputs": [
        {
          "output_type": "stream",
          "name": "stdout",
          "text": [
            "0.8232061603080154\n",
            "0.8232061603080154\n",
            "0.8232061603080154\n",
            "0.8231011550577529\n",
            "0.8228561428071404\n",
            "0.8200210010500525\n",
            "0.807770388519426\n",
            "0.7899194959747987\n"
          ]
        }
      ]
    },
    {
      "cell_type": "code",
      "source": [
        "from sklearn.model_selection import train_test_split, GridSearchCV\n",
        "train_x, test_x, train_y, test_y = train_test_split(retraso_x_dummies, vuelos_no_cancelados.RETRASO, test_size = 0.25, random_state = 123)\n",
        "from sklearn.tree import DecisionTreeClassifier\n",
        "tree_para = {\"max_depth\": [2, 3, 4, 5, 10, 20, 30]}\n",
        "clf = GridSearchCV(DecisionTreeClassifier(), tree_para, cv = 5, n_jobs = 4)\n",
        "clf.fit(train_x, train_y)\n",
        "clf\n"
      ],
      "metadata": {
        "colab": {
          "base_uri": "https://localhost:8080/",
          "height": 205
        },
        "id": "hxjufNufBSpC",
        "outputId": "9fecaf7b-a07f-4128-c868-935d119050b2"
      },
      "execution_count": null,
      "outputs": [
        {
          "output_type": "execute_result",
          "data": {
            "text/plain": [
              "GridSearchCV(cv=5, estimator=DecisionTreeClassifier(), n_jobs=4,\n",
              "             param_grid={'max_depth': [2, 3, 4, 5, 10, 20, 30]})"
            ],
            "text/html": [
              "<style>#sk-container-id-1 {color: black;background-color: white;}#sk-container-id-1 pre{padding: 0;}#sk-container-id-1 div.sk-toggleable {background-color: white;}#sk-container-id-1 label.sk-toggleable__label {cursor: pointer;display: block;width: 100%;margin-bottom: 0;padding: 0.3em;box-sizing: border-box;text-align: center;}#sk-container-id-1 label.sk-toggleable__label-arrow:before {content: \"▸\";float: left;margin-right: 0.25em;color: #696969;}#sk-container-id-1 label.sk-toggleable__label-arrow:hover:before {color: black;}#sk-container-id-1 div.sk-estimator:hover label.sk-toggleable__label-arrow:before {color: black;}#sk-container-id-1 div.sk-toggleable__content {max-height: 0;max-width: 0;overflow: hidden;text-align: left;background-color: #f0f8ff;}#sk-container-id-1 div.sk-toggleable__content pre {margin: 0.2em;color: black;border-radius: 0.25em;background-color: #f0f8ff;}#sk-container-id-1 input.sk-toggleable__control:checked~div.sk-toggleable__content {max-height: 200px;max-width: 100%;overflow: auto;}#sk-container-id-1 input.sk-toggleable__control:checked~label.sk-toggleable__label-arrow:before {content: \"▾\";}#sk-container-id-1 div.sk-estimator input.sk-toggleable__control:checked~label.sk-toggleable__label {background-color: #d4ebff;}#sk-container-id-1 div.sk-label input.sk-toggleable__control:checked~label.sk-toggleable__label {background-color: #d4ebff;}#sk-container-id-1 input.sk-hidden--visually {border: 0;clip: rect(1px 1px 1px 1px);clip: rect(1px, 1px, 1px, 1px);height: 1px;margin: -1px;overflow: hidden;padding: 0;position: absolute;width: 1px;}#sk-container-id-1 div.sk-estimator {font-family: monospace;background-color: #f0f8ff;border: 1px dotted black;border-radius: 0.25em;box-sizing: border-box;margin-bottom: 0.5em;}#sk-container-id-1 div.sk-estimator:hover {background-color: #d4ebff;}#sk-container-id-1 div.sk-parallel-item::after {content: \"\";width: 100%;border-bottom: 1px solid gray;flex-grow: 1;}#sk-container-id-1 div.sk-label:hover label.sk-toggleable__label {background-color: #d4ebff;}#sk-container-id-1 div.sk-serial::before {content: \"\";position: absolute;border-left: 1px solid gray;box-sizing: border-box;top: 0;bottom: 0;left: 50%;z-index: 0;}#sk-container-id-1 div.sk-serial {display: flex;flex-direction: column;align-items: center;background-color: white;padding-right: 0.2em;padding-left: 0.2em;position: relative;}#sk-container-id-1 div.sk-item {position: relative;z-index: 1;}#sk-container-id-1 div.sk-parallel {display: flex;align-items: stretch;justify-content: center;background-color: white;position: relative;}#sk-container-id-1 div.sk-item::before, #sk-container-id-1 div.sk-parallel-item::before {content: \"\";position: absolute;border-left: 1px solid gray;box-sizing: border-box;top: 0;bottom: 0;left: 50%;z-index: -1;}#sk-container-id-1 div.sk-parallel-item {display: flex;flex-direction: column;z-index: 1;position: relative;background-color: white;}#sk-container-id-1 div.sk-parallel-item:first-child::after {align-self: flex-end;width: 50%;}#sk-container-id-1 div.sk-parallel-item:last-child::after {align-self: flex-start;width: 50%;}#sk-container-id-1 div.sk-parallel-item:only-child::after {width: 0;}#sk-container-id-1 div.sk-dashed-wrapped {border: 1px dashed gray;margin: 0 0.4em 0.5em 0.4em;box-sizing: border-box;padding-bottom: 0.4em;background-color: white;}#sk-container-id-1 div.sk-label label {font-family: monospace;font-weight: bold;display: inline-block;line-height: 1.2em;}#sk-container-id-1 div.sk-label-container {text-align: center;}#sk-container-id-1 div.sk-container {/* jupyter's `normalize.less` sets `[hidden] { display: none; }` but bootstrap.min.css set `[hidden] { display: none !important; }` so we also need the `!important` here to be able to override the default hidden behavior on the sphinx rendered scikit-learn.org. See: https://github.com/scikit-learn/scikit-learn/issues/21755 */display: inline-block !important;position: relative;}#sk-container-id-1 div.sk-text-repr-fallback {display: none;}</style><div id=\"sk-container-id-1\" class=\"sk-top-container\"><div class=\"sk-text-repr-fallback\"><pre>GridSearchCV(cv=5, estimator=DecisionTreeClassifier(), n_jobs=4,\n",
              "             param_grid={&#x27;max_depth&#x27;: [2, 3, 4, 5, 10, 20, 30]})</pre><b>In a Jupyter environment, please rerun this cell to show the HTML representation or trust the notebook. <br />On GitHub, the HTML representation is unable to render, please try loading this page with nbviewer.org.</b></div><div class=\"sk-container\" hidden><div class=\"sk-item sk-dashed-wrapped\"><div class=\"sk-label-container\"><div class=\"sk-label sk-toggleable\"><input class=\"sk-toggleable__control sk-hidden--visually\" id=\"sk-estimator-id-1\" type=\"checkbox\" ><label for=\"sk-estimator-id-1\" class=\"sk-toggleable__label sk-toggleable__label-arrow\">GridSearchCV</label><div class=\"sk-toggleable__content\"><pre>GridSearchCV(cv=5, estimator=DecisionTreeClassifier(), n_jobs=4,\n",
              "             param_grid={&#x27;max_depth&#x27;: [2, 3, 4, 5, 10, 20, 30]})</pre></div></div></div><div class=\"sk-parallel\"><div class=\"sk-parallel-item\"><div class=\"sk-item\"><div class=\"sk-label-container\"><div class=\"sk-label sk-toggleable\"><input class=\"sk-toggleable__control sk-hidden--visually\" id=\"sk-estimator-id-2\" type=\"checkbox\" ><label for=\"sk-estimator-id-2\" class=\"sk-toggleable__label sk-toggleable__label-arrow\">estimator: DecisionTreeClassifier</label><div class=\"sk-toggleable__content\"><pre>DecisionTreeClassifier()</pre></div></div></div><div class=\"sk-serial\"><div class=\"sk-item\"><div class=\"sk-estimator sk-toggleable\"><input class=\"sk-toggleable__control sk-hidden--visually\" id=\"sk-estimator-id-3\" type=\"checkbox\" ><label for=\"sk-estimator-id-3\" class=\"sk-toggleable__label sk-toggleable__label-arrow\">DecisionTreeClassifier</label><div class=\"sk-toggleable__content\"><pre>DecisionTreeClassifier()</pre></div></div></div></div></div></div></div></div></div></div>"
            ]
          },
          "metadata": {},
          "execution_count": 18
        }
      ]
    },
    {
      "cell_type": "code",
      "source": [
        "clf.best_score_"
      ],
      "metadata": {
        "colab": {
          "base_uri": "https://localhost:8080/"
        },
        "id": "0JXzh_EcGtV1",
        "outputId": "1be3795d-0e4f-4e95-bf2b-c82ef865e0d4"
      },
      "execution_count": null,
      "outputs": [
        {
          "output_type": "execute_result",
          "data": {
            "text/plain": [
              "0.8199159957997899"
            ]
          },
          "metadata": {},
          "execution_count": 19
        }
      ]
    }
  ]
}