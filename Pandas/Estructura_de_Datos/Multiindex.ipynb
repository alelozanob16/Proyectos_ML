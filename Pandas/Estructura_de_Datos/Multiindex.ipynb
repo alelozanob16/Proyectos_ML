{
 "cells": [
  {
   "cell_type": "markdown",
   "metadata": {},
   "source": [
    "# Multiindices en Pandas"
   ]
  },
  {
   "cell_type": "code",
   "execution_count": 2,
   "metadata": {},
   "outputs": [],
   "source": [
    "import pandas as pd\n",
    "import numpy as np\n",
    "from pathlib import Path\n",
    "data_path = Path('Datos_Pruebas/prueba.csv')\n",
    "dataframe = pd.read_csv(data_path, sep=',')"
   ]
  },
  {
   "cell_type": "code",
   "execution_count": 3,
   "metadata": {},
   "outputs": [
    {
     "name": "stdout",
     "output_type": "stream",
     "text": [
      "MultiIndex([('a', 'a'),\n",
      "            ('a', 'b'),\n",
      "            ('a', 'c'),\n",
      "            ('a', 'd'),\n",
      "            ('b', 'a'),\n",
      "            ('b', 'b'),\n",
      "            ('b', 'c'),\n",
      "            ('b', 'd'),\n",
      "            ('c', 'a'),\n",
      "            ('c', 'b'),\n",
      "            ('c', 'c'),\n",
      "            ('c', 'd')],\n",
      "           names=['primero', 'segundo'])\n"
     ]
    }
   ],
   "source": [
    "#En esta lección vamos a ver los indices compuestos.\n",
    "array_indices = [['a','a','a','a','b','b','b','b','c','c','c','c'],\n",
    "                 ['a','b','c','d','a','b','c','d','a','b','c','d']]\n",
    "#Luego de crear el array vamos a unirlo mediante una lista y el método zip\n",
    "t = list(zip(array_indices[0], array_indices[1]))\n",
    "#Y creamos con Pandas el multiindice:\n",
    "mi = pd.MultiIndex.from_tuples(t, names = ['primero', 'segundo'])\n",
    "print(mi)"
   ]
  },
  {
   "cell_type": "code",
   "execution_count": 4,
   "metadata": {},
   "outputs": [
    {
     "data": {
      "text/plain": [
       "primero  segundo\n",
       "a        a           0\n",
       "         b           1\n",
       "         c           2\n",
       "         d           3\n",
       "b        a           4\n",
       "         b           5\n",
       "         c           6\n",
       "         d           7\n",
       "c        a           8\n",
       "         b           9\n",
       "         c          10\n",
       "         d          11\n",
       "dtype: int64"
      ]
     },
     "execution_count": 4,
     "metadata": {},
     "output_type": "execute_result"
    }
   ],
   "source": [
    "#Le aplicamos el multiindice a una serie:\n",
    "serie = pd.Series(np.arange(12), index = mi)\n",
    "serie"
   ]
  },
  {
   "cell_type": "code",
   "execution_count": 5,
   "metadata": {},
   "outputs": [
    {
     "name": "stdout",
     "output_type": "stream",
     "text": [
      "segundo\n",
      "a     8\n",
      "b     9\n",
      "c    10\n",
      "d    11\n",
      "dtype: int64 \n",
      "\n",
      "primero\n",
      "a    1\n",
      "b    5\n",
      "c    9\n",
      "dtype: int64\n"
     ]
    }
   ],
   "source": [
    "#Para consultarlo debemos hacerlo de la siguiente manera:\n",
    "serie.loc[('a', 'c')]\n",
    "#También podemos consultarlo a través del primer indice:\n",
    "print(serie.loc['c'], \"\\n\")\n",
    "#Otra manera es consultar del sgundo nivel letras/indices concretos:\n",
    "print(serie.loc[:, 'b'])#Todos los valores b del sgundo nivel(ab, bb, bc)"
   ]
  },
  {
   "cell_type": "code",
   "execution_count": 7,
   "metadata": {},
   "outputs": [
    {
     "data": {
      "text/html": [
       "<div>\n",
       "<style scoped>\n",
       "    .dataframe tbody tr th:only-of-type {\n",
       "        vertical-align: middle;\n",
       "    }\n",
       "\n",
       "    .dataframe tbody tr th {\n",
       "        vertical-align: top;\n",
       "    }\n",
       "\n",
       "    .dataframe thead tr th {\n",
       "        text-align: left;\n",
       "    }\n",
       "</style>\n",
       "<table border=\"1\" class=\"dataframe\">\n",
       "  <thead>\n",
       "    <tr>\n",
       "      <th></th>\n",
       "      <th colspan=\"3\" halign=\"left\">Columna_Importantes</th>\n",
       "      <th colspan=\"2\" halign=\"left\">Columna_No_Importantes</th>\n",
       "    </tr>\n",
       "    <tr>\n",
       "      <th></th>\n",
       "      <th>age</th>\n",
       "      <th>gender</th>\n",
       "      <th>genre</th>\n",
       "      <th>food</th>\n",
       "      <th>animals</th>\n",
       "    </tr>\n",
       "  </thead>\n",
       "  <tbody>\n",
       "    <tr>\n",
       "      <th>0</th>\n",
       "      <td>20</td>\n",
       "      <td>1</td>\n",
       "      <td>HipHop</td>\n",
       "      <td>1</td>\n",
       "      <td>1</td>\n",
       "    </tr>\n",
       "    <tr>\n",
       "      <th>1</th>\n",
       "      <td>23</td>\n",
       "      <td>1</td>\n",
       "      <td>HipHop</td>\n",
       "      <td>1</td>\n",
       "      <td>2</td>\n",
       "    </tr>\n",
       "    <tr>\n",
       "      <th>2</th>\n",
       "      <td>25</td>\n",
       "      <td>1</td>\n",
       "      <td>HipHop</td>\n",
       "      <td>1</td>\n",
       "      <td>3</td>\n",
       "    </tr>\n",
       "    <tr>\n",
       "      <th>3</th>\n",
       "      <td>26</td>\n",
       "      <td>1</td>\n",
       "      <td>Jazz</td>\n",
       "      <td>2</td>\n",
       "      <td>2</td>\n",
       "    </tr>\n",
       "    <tr>\n",
       "      <th>4</th>\n",
       "      <td>29</td>\n",
       "      <td>1</td>\n",
       "      <td>Jazz</td>\n",
       "      <td>2</td>\n",
       "      <td>1</td>\n",
       "    </tr>\n",
       "  </tbody>\n",
       "</table>\n",
       "</div>"
      ],
      "text/plain": [
       "  Columna_Importantes                Columna_No_Importantes        \n",
       "                  age gender   genre                   food animals\n",
       "0                  20      1  HipHop                      1       1\n",
       "1                  23      1  HipHop                      1       2\n",
       "2                  25      1  HipHop                      1       3\n",
       "3                  26      1    Jazz                      2       2\n",
       "4                  29      1    Jazz                      2       1"
      ]
     },
     "execution_count": 7,
     "metadata": {},
     "output_type": "execute_result"
    }
   ],
   "source": [
    "dataframe.head()\n",
    "#Para llevar el multiindex a un dataframe:\n",
    "#Primero creamos tuplas\n",
    "tuples = [('Columna_Importantes', 'age'),\n",
    "          ('Columna_Importantes', 'gender'),\n",
    "          ('Columna_Importantes', 'genre'),\n",
    "          ('Columna_No_Importantes', 'food'),\n",
    "          ('Columna_No_Importantes', 'animals')]\n",
    "#En base a las tuplas, como hicimos antes, generamos un multiindex\n",
    "multiindex = pd.MultiIndex.from_tuples(tuples)\n",
    "dataframe.columns = multiindex\n",
    "dataframe.head()\n"
   ]
  },
  {
   "cell_type": "code",
   "execution_count": 17,
   "metadata": {},
   "outputs": [
    {
     "name": "stdout",
     "output_type": "stream",
     "text": [
      "    age  gender      genre\n",
      "0    20       1     HipHop\n",
      "1    23       1     HipHop\n",
      "2    25       1     HipHop\n",
      "3    26       1       Jazz\n",
      "4    29       1       Jazz\n",
      "5    30       1       Jazz\n",
      "6    31       1  Classical\n",
      "7    33       1  Classical\n",
      "8    37       1  Classical\n",
      "9    20       0      Dance\n",
      "10   21       0      Dance\n",
      "11   25       0      Dance\n",
      "12   26       0   Acoustic\n",
      "13   27       0   Acoustic\n",
      "14   30       0   Acoustic\n",
      "15   31       0  Classical\n",
      "16   34       0  Classical\n",
      "17   35       0  Classical \n",
      " \n",
      "\n",
      "[['Columna_Importantes', 'Columna_No_Importantes'], ['age', 'animals', 'food', 'gender', 'genre']] \n",
      "\n",
      "Index(['Columna_Importantes', 'Columna_Importantes', 'Columna_Importantes',\n",
      "       'Columna_No_Importantes', 'Columna_No_Importantes'],\n",
      "      dtype='object') \n",
      "\n",
      "Index(['age', 'gender', 'genre', 'food', 'animals'], dtype='object')\n"
     ]
    }
   ],
   "source": [
    "#Al realizar el multiindex podemos consultar gracias al multiindex:\n",
    "print(dataframe['Columna_Importantes'], \"\\n\", \"\\n\")\n",
    "#También podemos mostrar la jerarquía de las columnas:\n",
    "print(dataframe.columns.levels, \"\\n\")\n",
    "#Podemos ser más concretos y preguntar por los níveles del indice:\n",
    "print(dataframe.columns.get_level_values(0),  \"\\n\")\n",
    "print(dataframe.columns.get_level_values(1))\n"
   ]
  },
  {
   "cell_type": "code",
   "execution_count": 31,
   "metadata": {},
   "outputs": [
    {
     "data": {
      "text/html": [
       "<div>\n",
       "<style scoped>\n",
       "    .dataframe tbody tr th:only-of-type {\n",
       "        vertical-align: middle;\n",
       "    }\n",
       "\n",
       "    .dataframe tbody tr th {\n",
       "        vertical-align: top;\n",
       "    }\n",
       "\n",
       "    .dataframe thead tr th {\n",
       "        text-align: left;\n",
       "    }\n",
       "</style>\n",
       "<table border=\"1\" class=\"dataframe\">\n",
       "  <thead>\n",
       "    <tr>\n",
       "      <th></th>\n",
       "      <th>Columna_Importantes</th>\n",
       "    </tr>\n",
       "    <tr>\n",
       "      <th></th>\n",
       "      <th>age</th>\n",
       "    </tr>\n",
       "  </thead>\n",
       "  <tbody>\n",
       "    <tr>\n",
       "      <th>0</th>\n",
       "      <td>20</td>\n",
       "    </tr>\n",
       "    <tr>\n",
       "      <th>1</th>\n",
       "      <td>23</td>\n",
       "    </tr>\n",
       "    <tr>\n",
       "      <th>2</th>\n",
       "      <td>25</td>\n",
       "    </tr>\n",
       "    <tr>\n",
       "      <th>3</th>\n",
       "      <td>26</td>\n",
       "    </tr>\n",
       "    <tr>\n",
       "      <th>4</th>\n",
       "      <td>29</td>\n",
       "    </tr>\n",
       "    <tr>\n",
       "      <th>5</th>\n",
       "      <td>30</td>\n",
       "    </tr>\n",
       "    <tr>\n",
       "      <th>6</th>\n",
       "      <td>31</td>\n",
       "    </tr>\n",
       "    <tr>\n",
       "      <th>7</th>\n",
       "      <td>33</td>\n",
       "    </tr>\n",
       "    <tr>\n",
       "      <th>8</th>\n",
       "      <td>37</td>\n",
       "    </tr>\n",
       "    <tr>\n",
       "      <th>9</th>\n",
       "      <td>20</td>\n",
       "    </tr>\n",
       "    <tr>\n",
       "      <th>10</th>\n",
       "      <td>21</td>\n",
       "    </tr>\n",
       "    <tr>\n",
       "      <th>11</th>\n",
       "      <td>25</td>\n",
       "    </tr>\n",
       "    <tr>\n",
       "      <th>12</th>\n",
       "      <td>26</td>\n",
       "    </tr>\n",
       "    <tr>\n",
       "      <th>13</th>\n",
       "      <td>27</td>\n",
       "    </tr>\n",
       "    <tr>\n",
       "      <th>14</th>\n",
       "      <td>30</td>\n",
       "    </tr>\n",
       "    <tr>\n",
       "      <th>15</th>\n",
       "      <td>31</td>\n",
       "    </tr>\n",
       "    <tr>\n",
       "      <th>16</th>\n",
       "      <td>34</td>\n",
       "    </tr>\n",
       "    <tr>\n",
       "      <th>17</th>\n",
       "      <td>35</td>\n",
       "    </tr>\n",
       "  </tbody>\n",
       "</table>\n",
       "</div>"
      ],
      "text/plain": [
       "   Columna_Importantes\n",
       "                   age\n",
       "0                   20\n",
       "1                   23\n",
       "2                   25\n",
       "3                   26\n",
       "4                   29\n",
       "5                   30\n",
       "6                   31\n",
       "7                   33\n",
       "8                   37\n",
       "9                   20\n",
       "10                  21\n",
       "11                  25\n",
       "12                  26\n",
       "13                  27\n",
       "14                  30\n",
       "15                  31\n",
       "16                  34\n",
       "17                  35"
      ]
     },
     "execution_count": 31,
     "metadata": {},
     "output_type": "execute_result"
    }
   ],
   "source": [
    "#Podemos consultar las columnas a través del método .loc\n",
    "dataframe.loc[:,[('Columna_Importantes', 'age')]]\n"
   ]
  }
 ],
 "metadata": {
  "kernelspec": {
   "display_name": "Python 3",
   "language": "python",
   "name": "python3"
  },
  "language_info": {
   "codemirror_mode": {
    "name": "ipython",
    "version": 3
   },
   "file_extension": ".py",
   "mimetype": "text/x-python",
   "name": "python",
   "nbconvert_exporter": "python",
   "pygments_lexer": "ipython3",
   "version": "3.10.6"
  }
 },
 "nbformat": 4,
 "nbformat_minor": 2
}
