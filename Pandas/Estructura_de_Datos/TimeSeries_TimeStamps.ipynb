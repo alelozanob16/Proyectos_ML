{
 "cells": [
  {
   "cell_type": "markdown",
   "metadata": {},
   "source": [
    "# Timeseries y Timestamps en Pandas"
   ]
  },
  {
   "cell_type": "code",
   "execution_count": 1,
   "metadata": {},
   "outputs": [],
   "source": [
    "import numpy as np\n",
    "import pandas as pd\n",
    "import datetime"
   ]
  },
  {
   "cell_type": "code",
   "execution_count": 8,
   "metadata": {},
   "outputs": [
    {
     "name": "stdout",
     "output_type": "stream",
     "text": [
      "2020-07-03 00:00:00\n",
      "2020-02-25 00:00:00\n",
      "DatetimeIndex(['2020-01-01', '2020-12-05', '2020-02-25'], dtype='datetime64[ns]', freq=None)\n"
     ]
    }
   ],
   "source": [
    "#El tipo de dato más simple que tenemos es el timestamp y tiene varios constructores:\n",
    "print(pd.Timestamp('2020-07-03'))#Lo construimos con una string(año, mes y día)\n",
    "print(pd.Timestamp(2020, 2, 25))#Lo creamos pasandole los números(año, mes y día)\n",
    "#Otra de las ventajas de Pandas es que puede convertir en un datetime64 de numpy los formatos de fecha que le pasemos:\n",
    "print(pd.to_datetime(['01/01/2020', np.datetime64('2020-12-05'), datetime.datetime(2020, 2, 25)]))\n"
   ]
  },
  {
   "cell_type": "code",
   "execution_count": 31,
   "metadata": {},
   "outputs": [
    {
     "name": "stdout",
     "output_type": "stream",
     "text": [
      "DatetimeIndex(['2020-01-01', '2020-02-01', '2020-03-01', '2020-04-01',\n",
      "               '2020-05-01', '2020-06-01', '2020-07-01', '2020-08-01',\n",
      "               '2020-09-01', '2020-10-01', '2020-11-01', '2020-12-01'],\n",
      "              dtype='datetime64[ns]', freq='MS')\n"
     ]
    }
   ],
   "source": [
    "#También podemos crear intervalos de tiempo\n",
    "dt_int = pd.date_range('2020-01-01', periods=12, freq='MS') #Para los años y meses hay que usar E(end) o S(start)\n",
    "print(dt_int)"
   ]
  },
  {
   "cell_type": "code",
   "execution_count": null,
   "metadata": {},
   "outputs": [
    {
     "name": "stdout",
     "output_type": "stream",
     "text": [
      "2020-01-01     1\n",
      "2020-02-01     2\n",
      "2020-03-01     3\n",
      "2020-04-01     4\n",
      "2020-05-01     5\n",
      "2020-06-01     6\n",
      "2020-07-01     7\n",
      "2020-08-01     8\n",
      "2020-09-01     9\n",
      "2020-10-01    10\n",
      "2020-11-01    11\n",
      "2020-12-01    12\n",
      "Freq: MS, dtype: int64 \n",
      "\n",
      "2020-01-01     1.5\n",
      "2020-03-01     3.5\n",
      "2020-05-01     5.5\n",
      "2020-07-01     7.5\n",
      "2020-09-01     9.5\n",
      "2020-11-01    11.5\n",
      "Freq: 2MS, dtype: float64\n"
     ]
    }
   ],
   "source": [
    "#Las series de tiempo también las podemos usar como indices en nuestros dataframes\n",
    "s = pd.Series(np.arange(1, 13), index = dt_int)\n",
    "print(s, \"\\n\")\n",
    "print(s.resample('2MS').mean())#también hay que indicar en el resample que hacemos el E y S de final e inicio.\n",
    "#Es muy interesante el indice en base a fechas temporales ya que podemos sacar la media de consumo diario de una empresa, por ejemplo."
   ]
  },
  {
   "cell_type": "code",
   "execution_count": 44,
   "metadata": {},
   "outputs": [
    {
     "name": "stdout",
     "output_type": "stream",
     "text": [
      "2025-08-04 00:00:00\n",
      "2025-04-08 00:00:00\n",
      "2025-08-04 00:00:00\n"
     ]
    }
   ],
   "source": [
    "#Para tratar las confusiones de si va primero el dia o el mes, podemos hacer:\n",
    "fecha_confusa = pd.to_datetime('04/08/2025', dayfirst = True)#Con el param \"dayfirst\" podemos indicar si el dia va primero o es el mes.\n",
    "print(fecha_confusa)\n",
    "#Aqui iria el mes primero:\n",
    "fecha_mes = pd.to_datetime('04/08/2025', dayfirst = False)\n",
    "print(fecha_mes)\n",
    "\n",
    "#Tambien podemos especificar el formato como tal:\n",
    "fecha_concreta = pd.to_datetime('04/08/2025', format = '%d/%m/%Y')\n",
    "print(fecha_concreta)"
   ]
  },
  {
   "cell_type": "code",
   "execution_count": 51,
   "metadata": {},
   "outputs": [
    {
     "name": "stdout",
     "output_type": "stream",
     "text": [
      "DatetimeIndex(['2009-02-13 19:45:21', '1999-09-08 04:37:07',\n",
      "               '2212-07-23 05:17:56'],\n",
      "              dtype='datetime64[ns]', freq=None)\n"
     ]
    }
   ],
   "source": [
    "#Epochs es una forma de medir el tiempo. Un epoch mide los segundos que han transcurrido desde el \n",
    "# 1 de enero de 1970\n",
    "\n",
    "fecha_segundos = pd.to_datetime([1234554321, 936765427, 7654367876], unit = 's')\n",
    "print(fecha_segundos)"
   ]
  },
  {
   "cell_type": "code",
   "execution_count": null,
   "metadata": {},
   "outputs": [
    {
     "data": {
      "text/html": [
       "<div>\n",
       "<style scoped>\n",
       "    .dataframe tbody tr th:only-of-type {\n",
       "        vertical-align: middle;\n",
       "    }\n",
       "\n",
       "    .dataframe tbody tr th {\n",
       "        vertical-align: top;\n",
       "    }\n",
       "\n",
       "    .dataframe thead th {\n",
       "        text-align: right;\n",
       "    }\n",
       "</style>\n",
       "<table border=\"1\" class=\"dataframe\">\n",
       "  <thead>\n",
       "    <tr style=\"text-align: right;\">\n",
       "      <th></th>\n",
       "      <th>year</th>\n",
       "      <th>week</th>\n",
       "      <th>day</th>\n",
       "    </tr>\n",
       "  </thead>\n",
       "  <tbody>\n",
       "    <tr>\n",
       "      <th>2009-02-13 19:45:21</th>\n",
       "      <td>2009</td>\n",
       "      <td>7</td>\n",
       "      <td>5</td>\n",
       "    </tr>\n",
       "    <tr>\n",
       "      <th>1999-09-08 04:37:07</th>\n",
       "      <td>1999</td>\n",
       "      <td>36</td>\n",
       "      <td>3</td>\n",
       "    </tr>\n",
       "    <tr>\n",
       "      <th>2212-07-23 05:17:56</th>\n",
       "      <td>2212</td>\n",
       "      <td>30</td>\n",
       "      <td>4</td>\n",
       "    </tr>\n",
       "  </tbody>\n",
       "</table>\n",
       "</div>"
      ],
      "text/plain": [
       "                     year  week  day\n",
       "2009-02-13 19:45:21  2009     7    5\n",
       "1999-09-08 04:37:07  1999    36    3\n",
       "2212-07-23 05:17:56  2212    30    4"
      ]
     },
     "execution_count": 52,
     "metadata": {},
     "output_type": "execute_result"
    }
   ],
   "source": [
    "#Podemos también crear un dataframe a través de esas fechas\n",
    "fecha_segundos.isocalendar()\n",
    "#Le podemos preguntar por el mes(.month), dia(.day), año(.year), hora(.hour), los dias de un año(.dayofyear), \n",
    "#que día fue(.day_name), dia de la semana(.dayofweek)"
   ]
  }
 ],
 "metadata": {
  "kernelspec": {
   "display_name": "Python 3",
   "language": "python",
   "name": "python3"
  },
  "language_info": {
   "codemirror_mode": {
    "name": "ipython",
    "version": 3
   },
   "file_extension": ".py",
   "mimetype": "text/x-python",
   "name": "python",
   "nbconvert_exporter": "python",
   "pygments_lexer": "ipython3",
   "version": "3.10.6"
  }
 },
 "nbformat": 4,
 "nbformat_minor": 2
}
