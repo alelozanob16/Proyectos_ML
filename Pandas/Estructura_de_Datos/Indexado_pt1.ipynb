{
 "cells": [
  {
   "cell_type": "markdown",
   "metadata": {},
   "source": [
    "# Indexado y Selección de datos en DataFrames con Pandas"
   ]
  },
  {
   "cell_type": "code",
   "execution_count": 6,
   "metadata": {},
   "outputs": [],
   "source": [
    "import numpy as np\n",
    "import pandas as pd\n",
    "from pathlib import Path\n",
    "ruta= Path('Datos_Pruebas/prueba.csv')"
   ]
  },
  {
   "cell_type": "code",
   "execution_count": 8,
   "metadata": {},
   "outputs": [
    {
     "data": {
      "text/html": [
       "<div>\n",
       "<style scoped>\n",
       "    .dataframe tbody tr th:only-of-type {\n",
       "        vertical-align: middle;\n",
       "    }\n",
       "\n",
       "    .dataframe tbody tr th {\n",
       "        vertical-align: top;\n",
       "    }\n",
       "\n",
       "    .dataframe thead th {\n",
       "        text-align: right;\n",
       "    }\n",
       "</style>\n",
       "<table border=\"1\" class=\"dataframe\">\n",
       "  <thead>\n",
       "    <tr style=\"text-align: right;\">\n",
       "      <th></th>\n",
       "      <th>age</th>\n",
       "      <th>gender</th>\n",
       "      <th>genre</th>\n",
       "      <th>food</th>\n",
       "      <th>animals</th>\n",
       "    </tr>\n",
       "  </thead>\n",
       "  <tbody>\n",
       "    <tr>\n",
       "      <th>0</th>\n",
       "      <td>20</td>\n",
       "      <td>1</td>\n",
       "      <td>HipHop</td>\n",
       "      <td>1</td>\n",
       "      <td>1</td>\n",
       "    </tr>\n",
       "    <tr>\n",
       "      <th>1</th>\n",
       "      <td>23</td>\n",
       "      <td>1</td>\n",
       "      <td>HipHop</td>\n",
       "      <td>1</td>\n",
       "      <td>2</td>\n",
       "    </tr>\n",
       "    <tr>\n",
       "      <th>2</th>\n",
       "      <td>25</td>\n",
       "      <td>1</td>\n",
       "      <td>HipHop</td>\n",
       "      <td>1</td>\n",
       "      <td>3</td>\n",
       "    </tr>\n",
       "    <tr>\n",
       "      <th>3</th>\n",
       "      <td>26</td>\n",
       "      <td>1</td>\n",
       "      <td>Jazz</td>\n",
       "      <td>2</td>\n",
       "      <td>2</td>\n",
       "    </tr>\n",
       "    <tr>\n",
       "      <th>4</th>\n",
       "      <td>29</td>\n",
       "      <td>1</td>\n",
       "      <td>Jazz</td>\n",
       "      <td>2</td>\n",
       "      <td>1</td>\n",
       "    </tr>\n",
       "    <tr>\n",
       "      <th>5</th>\n",
       "      <td>30</td>\n",
       "      <td>1</td>\n",
       "      <td>Jazz</td>\n",
       "      <td>2</td>\n",
       "      <td>2</td>\n",
       "    </tr>\n",
       "    <tr>\n",
       "      <th>6</th>\n",
       "      <td>31</td>\n",
       "      <td>1</td>\n",
       "      <td>Classical</td>\n",
       "      <td>1</td>\n",
       "      <td>3</td>\n",
       "    </tr>\n",
       "    <tr>\n",
       "      <th>7</th>\n",
       "      <td>33</td>\n",
       "      <td>1</td>\n",
       "      <td>Classical</td>\n",
       "      <td>2</td>\n",
       "      <td>2</td>\n",
       "    </tr>\n",
       "    <tr>\n",
       "      <th>8</th>\n",
       "      <td>37</td>\n",
       "      <td>1</td>\n",
       "      <td>Classical</td>\n",
       "      <td>2</td>\n",
       "      <td>1</td>\n",
       "    </tr>\n",
       "    <tr>\n",
       "      <th>9</th>\n",
       "      <td>20</td>\n",
       "      <td>0</td>\n",
       "      <td>Dance</td>\n",
       "      <td>1</td>\n",
       "      <td>2</td>\n",
       "    </tr>\n",
       "    <tr>\n",
       "      <th>10</th>\n",
       "      <td>21</td>\n",
       "      <td>0</td>\n",
       "      <td>Dance</td>\n",
       "      <td>2</td>\n",
       "      <td>3</td>\n",
       "    </tr>\n",
       "    <tr>\n",
       "      <th>11</th>\n",
       "      <td>25</td>\n",
       "      <td>0</td>\n",
       "      <td>Dance</td>\n",
       "      <td>2</td>\n",
       "      <td>2</td>\n",
       "    </tr>\n",
       "    <tr>\n",
       "      <th>12</th>\n",
       "      <td>26</td>\n",
       "      <td>0</td>\n",
       "      <td>Acoustic</td>\n",
       "      <td>2</td>\n",
       "      <td>1</td>\n",
       "    </tr>\n",
       "    <tr>\n",
       "      <th>13</th>\n",
       "      <td>27</td>\n",
       "      <td>0</td>\n",
       "      <td>Acoustic</td>\n",
       "      <td>2</td>\n",
       "      <td>2</td>\n",
       "    </tr>\n",
       "    <tr>\n",
       "      <th>14</th>\n",
       "      <td>30</td>\n",
       "      <td>0</td>\n",
       "      <td>Acoustic</td>\n",
       "      <td>1</td>\n",
       "      <td>3</td>\n",
       "    </tr>\n",
       "    <tr>\n",
       "      <th>15</th>\n",
       "      <td>31</td>\n",
       "      <td>0</td>\n",
       "      <td>Classical</td>\n",
       "      <td>2</td>\n",
       "      <td>2</td>\n",
       "    </tr>\n",
       "    <tr>\n",
       "      <th>16</th>\n",
       "      <td>34</td>\n",
       "      <td>0</td>\n",
       "      <td>Classical</td>\n",
       "      <td>1</td>\n",
       "      <td>1</td>\n",
       "    </tr>\n",
       "    <tr>\n",
       "      <th>17</th>\n",
       "      <td>35</td>\n",
       "      <td>0</td>\n",
       "      <td>Classical</td>\n",
       "      <td>1</td>\n",
       "      <td>1</td>\n",
       "    </tr>\n",
       "  </tbody>\n",
       "</table>\n",
       "</div>"
      ],
      "text/plain": [
       "    age  gender      genre  food  animals\n",
       "0    20       1     HipHop     1        1\n",
       "1    23       1     HipHop     1        2\n",
       "2    25       1     HipHop     1        3\n",
       "3    26       1       Jazz     2        2\n",
       "4    29       1       Jazz     2        1\n",
       "5    30       1       Jazz     2        2\n",
       "6    31       1  Classical     1        3\n",
       "7    33       1  Classical     2        2\n",
       "8    37       1  Classical     2        1\n",
       "9    20       0      Dance     1        2\n",
       "10   21       0      Dance     2        3\n",
       "11   25       0      Dance     2        2\n",
       "12   26       0   Acoustic     2        1\n",
       "13   27       0   Acoustic     2        2\n",
       "14   30       0   Acoustic     1        3\n",
       "15   31       0  Classical     2        2\n",
       "16   34       0  Classical     1        1\n",
       "17   35       0  Classical     1        1"
      ]
     },
     "execution_count": 8,
     "metadata": {},
     "output_type": "execute_result"
    }
   ],
   "source": [
    "dataset = pd.read_csv(ruta, sep=',')\n",
    "dataset\n"
   ]
  },
  {
   "cell_type": "code",
   "execution_count": null,
   "metadata": {},
   "outputs": [
    {
     "name": "stdout",
     "output_type": "stream",
     "text": [
      "genre\n",
      "Classical    6\n",
      "HipHop       3\n",
      "Jazz         3\n",
      "Dance        3\n",
      "Acoustic     3\n",
      "Name: count, dtype: int64 \n",
      "\n",
      "   age  gender   genre  food  animals\n",
      "0   20       1  HipHop     1        1\n",
      "1   23       1  HipHop     1        2\n",
      "2   25       1  HipHop     1        3\n"
     ]
    }
   ],
   "source": [
    "#Existen una serie de métodos para explorar el dataset:\n",
    "print(dataset['genre'].value_counts(), \"\\n\")# Este método lo que hace es darnos el número de valores totales \n",
    "# en cada valor de la columna indicada, en este caso 'genre'\n",
    "\n",
    "#Ahora podemos jugar con el indexado booleano, que vimos en NumPy, para crear variables que contengan partes del dataset\n",
    "# y hacerlo más flexible. En este ejemplo vamos a crear una variable que almacene las filas cuyo género es HipHop.\n",
    "# Al final es una forma de filtrar por si queremos trabajar con algo en específico\n",
    "genre_hiphop  = dataset[dataset['genre'] == 'HipHop']\n",
    "print(genre_hiphop)\n"
   ]
  },
  {
   "cell_type": "code",
   "execution_count": null,
   "metadata": {},
   "outputs": [
    {
     "data": {
      "text/html": [
       "<div>\n",
       "<style scoped>\n",
       "    .dataframe tbody tr th:only-of-type {\n",
       "        vertical-align: middle;\n",
       "    }\n",
       "\n",
       "    .dataframe tbody tr th {\n",
       "        vertical-align: top;\n",
       "    }\n",
       "\n",
       "    .dataframe thead th {\n",
       "        text-align: right;\n",
       "    }\n",
       "</style>\n",
       "<table border=\"1\" class=\"dataframe\">\n",
       "  <thead>\n",
       "    <tr style=\"text-align: right;\">\n",
       "      <th></th>\n",
       "      <th>age</th>\n",
       "      <th>gender</th>\n",
       "      <th>genre</th>\n",
       "      <th>food</th>\n",
       "      <th>animals</th>\n",
       "    </tr>\n",
       "  </thead>\n",
       "  <tbody>\n",
       "    <tr>\n",
       "      <th>0</th>\n",
       "      <td>20</td>\n",
       "      <td>1</td>\n",
       "      <td>HipHop</td>\n",
       "      <td>1</td>\n",
       "      <td>1</td>\n",
       "    </tr>\n",
       "  </tbody>\n",
       "</table>\n",
       "</div>"
      ],
      "text/plain": [
       "   age  gender   genre  food  animals\n",
       "0   20       1  HipHop     1        1"
      ]
     },
     "execution_count": 16,
     "metadata": {},
     "output_type": "execute_result"
    }
   ],
   "source": [
    "#Se pueden añadir varios filtros/comparaciones:\n",
    "hiphop_animals = dataset[(dataset['genre'] == 'HipHop') & (dataset['animals'] == 1)]#Cada filtro va entre paréntesis dentro de la\n",
    "#indexación principal\n",
    "hiphop_animals"
   ]
  },
  {
   "cell_type": "code",
   "execution_count": 19,
   "metadata": {},
   "outputs": [
    {
     "name": "stdout",
     "output_type": "stream",
     "text": [
      "age            23\n",
      "gender          1\n",
      "genre      HipHop\n",
      "food            1\n",
      "animals         2\n",
      "Name: 1, dtype: object \n",
      "\n"
     ]
    },
    {
     "data": {
      "text/plain": [
       "age            23\n",
       "gender          1\n",
       "genre      HipHop\n",
       "food            1\n",
       "animals         2\n",
       "Name: 1, dtype: object"
      ]
     },
     "execution_count": 19,
     "metadata": {},
     "output_type": "execute_result"
    }
   ],
   "source": [
    "#Para consultar por el indice, usamos el metodo loc:\n",
    "print(dataset.loc[1], \"\\n\") #Me devuelve la fila cuyo índice es = 1 (la segunda fila del dataset)\n",
    "dataset.iloc[1] #Me devuelve la fila cuya posición es = 1 (la segunda fila del dataset también)\n",
    "#La diferencia es que a loc hay que pasarle el índice(si fuese un carácter también) y a iloc la posición de la fila"
   ]
  },
  {
   "cell_type": "code",
   "execution_count": 29,
   "metadata": {},
   "outputs": [
    {
     "name": "stdout",
     "output_type": "stream",
     "text": [
      "genre     Acoustic\n",
      "gender           0\n",
      "Name: 12, dtype: object \n",
      "\n",
      "genre     Acoustic\n",
      "gender           0\n",
      "Name: 12, dtype: object\n"
     ]
    }
   ],
   "source": [
    "#Dentro de estos dos métodos podemos usar mas filtros:\n",
    "print(dataset.loc[12, ['genre', 'gender']], \"\\n\")# De esta manera filtramos por el índice 12 y queremos el género musical y su genero\n",
    "print(dataset.iloc[12, [2, 1]])"
   ]
  },
  {
   "cell_type": "code",
   "execution_count": null,
   "metadata": {},
   "outputs": [
    {
     "data": {
      "text/plain": [
       "'Classical'"
      ]
     },
     "execution_count": 33,
     "metadata": {},
     "output_type": "execute_result"
    }
   ],
   "source": [
    "# Con el método iat recuperamos los valores indicandole la fila y la columna, casi idéntico al método iloc\n",
    "dataset.iat[0,0]\n",
    "dataset.iat[1,0]\n",
    "#El primer número indica la fila y el segundo la columna\n",
    "dataset.iat[7,2]"
   ]
  },
  {
   "cell_type": "code",
   "execution_count": 46,
   "metadata": {},
   "outputs": [
    {
     "name": "stdout",
     "output_type": "stream",
     "text": [
      "   age  gender   genre  food  animals\n",
      "1   23       1  HipHop     1        2\n",
      "2   25       1  HipHop     1        3\n",
      "3   26       1    Jazz     2        2 \n",
      "\n",
      "    age  gender      genre  food  animals\n",
      "14   30       0   Acoustic     1        3\n",
      "15   31       0  Classical     2        2\n",
      "16   34       0  Classical     1        1\n",
      "17   35       0  Classical     1        1 \n",
      "\n",
      "   age  gender   genre  food  animals\n",
      "0   20       1  HipHop     1        1\n",
      "1   23       1  HipHop     1        2\n",
      "2   25       1  HipHop     1        3\n",
      "3   26       1    Jazz     2        2 \n",
      "\n"
     ]
    },
    {
     "data": {
      "text/html": [
       "<div>\n",
       "<style scoped>\n",
       "    .dataframe tbody tr th:only-of-type {\n",
       "        vertical-align: middle;\n",
       "    }\n",
       "\n",
       "    .dataframe tbody tr th {\n",
       "        vertical-align: top;\n",
       "    }\n",
       "\n",
       "    .dataframe thead th {\n",
       "        text-align: right;\n",
       "    }\n",
       "</style>\n",
       "<table border=\"1\" class=\"dataframe\">\n",
       "  <thead>\n",
       "    <tr style=\"text-align: right;\">\n",
       "      <th></th>\n",
       "      <th>age</th>\n",
       "      <th>gender</th>\n",
       "      <th>genre</th>\n",
       "      <th>food</th>\n",
       "      <th>animals</th>\n",
       "    </tr>\n",
       "  </thead>\n",
       "  <tbody>\n",
       "    <tr>\n",
       "      <th>13</th>\n",
       "      <td>27</td>\n",
       "      <td>0</td>\n",
       "      <td>Acoustic</td>\n",
       "      <td>2</td>\n",
       "      <td>2</td>\n",
       "    </tr>\n",
       "    <tr>\n",
       "      <th>14</th>\n",
       "      <td>30</td>\n",
       "      <td>0</td>\n",
       "      <td>Acoustic</td>\n",
       "      <td>1</td>\n",
       "      <td>3</td>\n",
       "    </tr>\n",
       "    <tr>\n",
       "      <th>15</th>\n",
       "      <td>31</td>\n",
       "      <td>0</td>\n",
       "      <td>Classical</td>\n",
       "      <td>2</td>\n",
       "      <td>2</td>\n",
       "    </tr>\n",
       "    <tr>\n",
       "      <th>16</th>\n",
       "      <td>34</td>\n",
       "      <td>0</td>\n",
       "      <td>Classical</td>\n",
       "      <td>1</td>\n",
       "      <td>1</td>\n",
       "    </tr>\n",
       "    <tr>\n",
       "      <th>17</th>\n",
       "      <td>35</td>\n",
       "      <td>0</td>\n",
       "      <td>Classical</td>\n",
       "      <td>1</td>\n",
       "      <td>1</td>\n",
       "    </tr>\n",
       "  </tbody>\n",
       "</table>\n",
       "</div>"
      ],
      "text/plain": [
       "    age  gender      genre  food  animals\n",
       "13   27       0   Acoustic     2        2\n",
       "14   30       0   Acoustic     1        3\n",
       "15   31       0  Classical     2        2\n",
       "16   34       0  Classical     1        1\n",
       "17   35       0  Classical     1        1"
      ]
     },
     "execution_count": 46,
     "metadata": {},
     "output_type": "execute_result"
    }
   ],
   "source": [
    "# Ahora vamos a realizar los slicing que vimos en NumPy:\n",
    "print(dataset.loc[1:3], \"\\n\")#Nos devuelve las filas cuyos indices van del 1 al 3(ambos incluidos)\n",
    "print(dataset.loc[14:], \"\\n\")#Si no establecemos un final me devuelve desde el número incial hasta el final. Esto al final es una forma\n",
    "# de devolvernos los x últimos registros\n",
    "print(dataset.loc[:3],\"\\n\")#Si no establecemos un inicio nos va a devolver desde el principio hasta el numero que hayamos indicado\n",
    "#Se refiere, principalmente, a una forma de devolvernos los x primeros numeros\n",
    "\n"
   ]
  }
 ],
 "metadata": {
  "kernelspec": {
   "display_name": "Python 3",
   "language": "python",
   "name": "python3"
  },
  "language_info": {
   "codemirror_mode": {
    "name": "ipython",
    "version": 3
   },
   "file_extension": ".py",
   "mimetype": "text/x-python",
   "name": "python",
   "nbconvert_exporter": "python",
   "pygments_lexer": "ipython3",
   "version": "3.10.6"
  }
 },
 "nbformat": 4,
 "nbformat_minor": 2
}
