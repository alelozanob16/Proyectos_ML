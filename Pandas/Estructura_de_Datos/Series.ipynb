{
 "cells": [
  {
   "cell_type": "markdown",
   "metadata": {},
   "source": [
    "# Series en Pandas"
   ]
  },
  {
   "cell_type": "code",
   "execution_count": 2,
   "metadata": {},
   "outputs": [],
   "source": [
    "import pandas as pd\n",
    "import numpy as np"
   ]
  },
  {
   "cell_type": "code",
   "execution_count": null,
   "metadata": {},
   "outputs": [],
   "source": [
    "#Con las series no hacemos más que convertir un array de numpy en una \"tabla\" con un índice\n",
    "#que en principio va a ser autoincremental pero que le podremos personalizar"
   ]
  },
  {
   "cell_type": "code",
   "execution_count": 5,
   "metadata": {},
   "outputs": [
    {
     "name": "stdout",
     "output_type": "stream",
     "text": [
      "0    1\n",
      "1    2\n",
      "2    3\n",
      "3    4\n",
      "4    5\n",
      "5    6\n",
      "6    7\n",
      "dtype: int32\n",
      "RangeIndex(start=0, stop=7, step=1)\n"
     ]
    }
   ],
   "source": [
    "valores = np.array([1,2,3,4,5,6,7], dtype=np.int32)\n",
    "series = pd.Series(valores)#Aquí el índice será autoincremental y por defecto del 0 al n.\n",
    "print(series)\n",
    "print(series.index)#Con esto podríamos consultar cómo es el índice"
   ]
  },
  {
   "cell_type": "code",
   "execution_count": 8,
   "metadata": {},
   "outputs": [
    {
     "name": "stdout",
     "output_type": "stream",
     "text": [
      "a    1\n",
      "b    2\n",
      "c    3\n",
      "d    4\n",
      "e    5\n",
      "f    6\n",
      "g    7\n",
      "dtype: int32\n"
     ]
    }
   ],
   "source": [
    "#Para definir nuestro propio índice hacemos:\n",
    "series = pd.Series(valores, index = ['a', 'b', 'c', 'd', 'e', 'f', 'g'])\n",
    "print(series)"
   ]
  },
  {
   "cell_type": "code",
   "execution_count": 13,
   "metadata": {},
   "outputs": [
    {
     "name": "stdout",
     "output_type": "stream",
     "text": [
      "a    1\n",
      "b    2\n",
      "c    3\n",
      "d    4\n",
      "e    5\n",
      "dtype: int64 \n",
      "\n",
      "b    2\n",
      "e    5\n",
      "d    4\n",
      "a    1\n",
      "c    3\n",
      "dtype: int64\n"
     ]
    }
   ],
   "source": [
    "#Se puede crear un índice a través de un diccionario de Python\n",
    "diccionario_python = {'a':1, 'b':2, 'c':3, 'd':4, 'e':5}\n",
    "serie_diccionario = pd.Series(diccionario_python)\n",
    "print(serie_diccionario,\"\\n\")\n",
    "\n",
    "#Se podría cambiar el ordén a través de personalizar el índex:\n",
    "serie_diccionario = pd.Series(diccionario_python, index = ['b','e', 'd', 'a', 'c'])\n",
    "print(serie_diccionario)"
   ]
  },
  {
   "cell_type": "code",
   "execution_count": 23,
   "metadata": {},
   "outputs": [
    {
     "name": "stdout",
     "output_type": "stream",
     "text": [
      "15\n",
      "1.4142135623730951\n",
      "5\n",
      "3.0\n",
      "3.0\n"
     ]
    }
   ],
   "source": [
    "#La integración entre numpy y pandas es realmente fuerte, por lo que podemos usar métodos de numpy con variables creadas\n",
    "#con métodos de panda\n",
    "print(np.sum(serie_diccionario))\n",
    "print(np.std(serie_diccionario))\n",
    "print(np.max(serie_diccionario))\n",
    "print(np.median(serie_diccionario))\n",
    "print(np.mean(serie_diccionario))"
   ]
  },
  {
   "cell_type": "code",
   "execution_count": null,
   "metadata": {},
   "outputs": [
    {
     "name": "stdout",
     "output_type": "stream",
     "text": [
      "2\n",
      "2\n"
     ]
    },
    {
     "name": "stderr",
     "output_type": "stream",
     "text": [
      "/var/folders/9q/x3cxwh3x3vz5xbqg35y1cbfh0000gn/T/ipykernel_17900/832715470.py:7: FutureWarning: Series.__getitem__ treating keys as positions is deprecated. In a future version, integer keys will always be treated as labels (consistent with DataFrame behavior). To access a value by position, use `ser.iloc[pos]`\n",
      "  print(series[1])\n"
     ]
    }
   ],
   "source": [
    "#Se pueden consultar valores de una serie de dos maneras:\n",
    "\n",
    "#En primer lugar lo hacemos como clave-valor, siendo la clave el índice:\n",
    "print(series['b'])\n",
    "\n",
    "#Y, en segundo lugar, se puede recorrer una serie a través de su posición:\n",
    "print(series[1])\n"
   ]
  },
  {
   "cell_type": "code",
   "execution_count": 31,
   "metadata": {},
   "outputs": [
    {
     "name": "stdout",
     "output_type": "stream",
     "text": [
      "a    1\n",
      "b    2\n",
      "c    3\n",
      "d    4\n",
      "e    5\n",
      "f    6\n",
      "g    7\n",
      "h    8\n",
      "dtype: int32 \n",
      "\n",
      "True\n"
     ]
    }
   ],
   "source": [
    "#Se pueden añadir valores a la serie al igual que se hacía con insert en los \n",
    "#arrays de numpy. Aquí no usamos un método simplemente lo indexamos:\n",
    "series['h'] = 8\n",
    "print(series, \"\\n\")\n",
    "\n",
    "#También podemos preguntar si un índice esta dentro de una serie:\n",
    "print('f' in series)\n",
    "\n"
   ]
  },
  {
   "cell_type": "code",
   "execution_count": 39,
   "metadata": {},
   "outputs": [
    {
     "name": "stdout",
     "output_type": "stream",
     "text": [
      "a    2\n",
      "b    8\n",
      "c    6\n",
      "d    7\n",
      "e    2\n",
      "f    2\n",
      "g    5\n",
      "h    7\n",
      "dtype: int64 \n",
      "\n",
      "a     3\n",
      "b    10\n",
      "c     9\n",
      "d    11\n",
      "e     7\n",
      "f     8\n",
      "g    12\n",
      "h    15\n",
      "dtype: int64 \n",
      "\n",
      "a     3.0\n",
      "b    10.0\n",
      "c     9.0\n",
      "d    11.0\n",
      "e     7.0\n",
      "f     8.0\n",
      "g    12.0\n",
      "h    15.0\n",
      "i     NaN\n",
      "dtype: float64\n"
     ]
    }
   ],
   "source": [
    "series2 = pd.Series(np.random.randint(0, 10, 8), index = ['a', 'b', 'c', 'd', 'e', 'f', 'g', 'h'])\n",
    "print(series2, \"\\n\")\n",
    "#Ahora puedo sumar dos series\n",
    "print(series + series2, \"\\n\")\n",
    "\n",
    "#En caso de que la serie no tuviesen el mismo tamaño, no dará error si no que aparecerá un nan en el\n",
    "#índice que no comparten\n",
    "\n",
    "series2['i'] = 12 \n",
    "series2\n",
    "\n",
    "print(series + series2)"
   ]
  }
 ],
 "metadata": {
  "kernelspec": {
   "display_name": "Python 3",
   "language": "python",
   "name": "python3"
  },
  "language_info": {
   "codemirror_mode": {
    "name": "ipython",
    "version": 3
   },
   "file_extension": ".py",
   "mimetype": "text/x-python",
   "name": "python",
   "nbconvert_exporter": "python",
   "pygments_lexer": "ipython3",
   "version": "3.10.6"
  }
 },
 "nbformat": 4,
 "nbformat_minor": 2
}
