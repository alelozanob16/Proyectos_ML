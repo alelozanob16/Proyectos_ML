{
 "cells": [
  {
   "cell_type": "markdown",
   "metadata": {},
   "source": [
    "# TimeDelta en Pandas"
   ]
  },
  {
   "cell_type": "code",
   "execution_count": 2,
   "metadata": {},
   "outputs": [],
   "source": [
    "import pandas as pd\n",
    "import numpy as np"
   ]
  },
  {
   "cell_type": "code",
   "execution_count": 6,
   "metadata": {},
   "outputs": [
    {
     "name": "stdout",
     "output_type": "stream",
     "text": [
      "10 days 00:00:00\n",
      "0 days 10:00:00\n"
     ]
    }
   ],
   "source": [
    "#Los timedelta son periodos de tiempo concretos que se pueden sumar o restar a una fecha\n",
    "#Se pueden crear con pd.Timedelta y dicho constructor tiene varias sintaxis:\n",
    "td = pd.Timedelta('10 days')\n",
    "print(td)\n",
    "td2 = pd.Timedelta(10, unit='h')\n",
    "print(td2)\n"
   ]
  },
  {
   "cell_type": "code",
   "execution_count": null,
   "metadata": {},
   "outputs": [
    {
     "name": "stdout",
     "output_type": "stream",
     "text": [
      "DatetimeIndex(['2020-01-01 10:00:00', '2020-01-02 10:00:00',\n",
      "               '2020-01-03 10:00:00', '2020-01-04 10:00:00',\n",
      "               '2020-01-05 10:00:00'],\n",
      "              dtype='datetime64[ns]', freq='D')\n"
     ]
    }
   ],
   "source": [
    "#Los timedelta son interesantes para operar con fechas\n",
    "#Por ejemplo, podemos sumar un timedelta a una fecha\n",
    "dt_int = pd.date_range('2020-01-01', periods=5, freq='D')\n",
    "print(dt_int + td2) # Le hemos sumando diez horas a cada dia de la serie"
   ]
  },
  {
   "cell_type": "code",
   "execution_count": null,
   "metadata": {},
   "outputs": [
    {
     "name": "stdout",
     "output_type": "stream",
     "text": [
      "TimedeltaIndex(['217 days', '217 days', '217 days', '217 days', '217 days'], dtype='timedelta64[ns]', freq=None)\n"
     ]
    }
   ],
   "source": [
    "# También podemos saber la diferencia entre dos series de fechas\n",
    "dt_int2 = pd.date_range('2019-05-29', periods=5, freq='D')\n",
    "diff = dt_int - dt_int2\n",
    "print(diff) #Salen los mismos días porque ambas series son lineales e incrementan de uno en uno"
   ]
  }
 ],
 "metadata": {
  "kernelspec": {
   "display_name": "Python 3",
   "language": "python",
   "name": "python3"
  },
  "language_info": {
   "codemirror_mode": {
    "name": "ipython",
    "version": 3
   },
   "file_extension": ".py",
   "mimetype": "text/x-python",
   "name": "python",
   "nbconvert_exporter": "python",
   "pygments_lexer": "ipython3",
   "version": "3.10.6"
  }
 },
 "nbformat": 4,
 "nbformat_minor": 2
}
