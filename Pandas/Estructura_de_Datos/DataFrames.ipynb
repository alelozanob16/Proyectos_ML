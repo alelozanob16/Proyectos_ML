{
 "cells": [
  {
   "cell_type": "markdown",
   "metadata": {},
   "source": [
    "# DataFraes en Pandas"
   ]
  },
  {
   "cell_type": "code",
   "execution_count": 1,
   "metadata": {},
   "outputs": [],
   "source": [
    "import pandas as pd\n",
    "import numpy as np"
   ]
  },
  {
   "cell_type": "code",
   "execution_count": 3,
   "metadata": {},
   "outputs": [
    {
     "name": "stdout",
     "output_type": "stream",
     "text": [
      "{'col1': 0    1\n",
      "1    2\n",
      "2    3\n",
      "3    4\n",
      "dtype: int64, 'col2': 0    4\n",
      "1    3\n",
      "2    2\n",
      "3    1\n",
      "dtype: int64} \n",
      "\n",
      "   col1  col2\n",
      "0     1     4\n",
      "1     2     3\n",
      "2     3     2\n",
      "3     4     1\n"
     ]
    }
   ],
   "source": [
    "# Los dataframes son un conjunto/tipo de dato , que al contrario que las series que eran unidimensionales, son bidimensional \n",
    "# con sus columnas y filas, justo como podría ser una tabla de SQL.\n",
    "# En este notebook vamos a ver constructores del tipo de dato más usado en pandas: el dataframe.\n",
    "\n",
    "d = {'col1' : pd.Series([1,2,3,4]), \n",
    "     'col2' : pd.Series([4,3,2,1])}\n",
    "df = pd.DataFrame(d)\n",
    "print(d, \"\\n\")\n",
    "print(df)"
   ]
  },
  {
   "cell_type": "code",
   "execution_count": 4,
   "metadata": {},
   "outputs": [
    {
     "name": "stdout",
     "output_type": "stream",
     "text": [
      "   col1  col2\n",
      "a     1     3\n",
      "b     2     4\n",
      "c     3     5\n",
      "d     4     6\n"
     ]
    }
   ],
   "source": [
    "#También podemos tener un constructor con sin series de pandas e indicarle el indice:\n",
    "\n",
    "f = {'col1' : [1,2,3,4],\n",
    "     'col2' : [3,4,5,6]}\n",
    "datafreim = pd.DataFrame(f, index=['a', 'b', 'c', 'd'])\n",
    "print(datafreim)"
   ]
  },
  {
   "cell_type": "code",
   "execution_count": 34,
   "metadata": {},
   "outputs": [
    {
     "name": "stdout",
     "output_type": "stream",
     "text": [
      "   col1  col2  col3\n",
      "0     1     3   NaN\n",
      "1     4     9   NaN\n",
      "2    12     2   NaN\n",
      "3     3     7  15.0 \n",
      "\n",
      "0    3\n",
      "1    9\n",
      "2    2\n",
      "3    7\n",
      "Name: col2, dtype: int64 \n",
      "\n"
     ]
    },
    {
     "name": "stderr",
     "output_type": "stream",
     "text": [
      "/var/folders/9q/x3cxwh3x3vz5xbqg35y1cbfh0000gn/T/ipykernel_18689/2292627071.py:24: FutureWarning: DataFrame.fillna with 'method' is deprecated and will raise in a future version. Use obj.ffill() or obj.bfill() instead.\n",
      "  otro_deitafreim.fillna(method = 'bfill', inplace = False)\n",
      "/var/folders/9q/x3cxwh3x3vz5xbqg35y1cbfh0000gn/T/ipykernel_18689/2292627071.py:25: FutureWarning: DataFrame.fillna with 'method' is deprecated and will raise in a future version. Use obj.ffill() or obj.bfill() instead.\n",
      "  otro_deitafreim.fillna(method = 'ffill', inplace=False)\n"
     ]
    },
    {
     "data": {
      "text/html": [
       "<div>\n",
       "<style scoped>\n",
       "    .dataframe tbody tr th:only-of-type {\n",
       "        vertical-align: middle;\n",
       "    }\n",
       "\n",
       "    .dataframe tbody tr th {\n",
       "        vertical-align: top;\n",
       "    }\n",
       "\n",
       "    .dataframe thead th {\n",
       "        text-align: right;\n",
       "    }\n",
       "</style>\n",
       "<table border=\"1\" class=\"dataframe\">\n",
       "  <thead>\n",
       "    <tr style=\"text-align: right;\">\n",
       "      <th></th>\n",
       "      <th>col1</th>\n",
       "      <th>col2</th>\n",
       "      <th>col3</th>\n",
       "    </tr>\n",
       "  </thead>\n",
       "  <tbody>\n",
       "    <tr>\n",
       "      <th>0</th>\n",
       "      <td>1</td>\n",
       "      <td>3</td>\n",
       "      <td>NaN</td>\n",
       "    </tr>\n",
       "    <tr>\n",
       "      <th>1</th>\n",
       "      <td>4</td>\n",
       "      <td>9</td>\n",
       "      <td>NaN</td>\n",
       "    </tr>\n",
       "    <tr>\n",
       "      <th>2</th>\n",
       "      <td>12</td>\n",
       "      <td>2</td>\n",
       "      <td>NaN</td>\n",
       "    </tr>\n",
       "    <tr>\n",
       "      <th>3</th>\n",
       "      <td>3</td>\n",
       "      <td>7</td>\n",
       "      <td>15.0</td>\n",
       "    </tr>\n",
       "  </tbody>\n",
       "</table>\n",
       "</div>"
      ],
      "text/plain": [
       "   col1  col2  col3\n",
       "0     1     3   NaN\n",
       "1     4     9   NaN\n",
       "2    12     2   NaN\n",
       "3     3     7  15.0"
      ]
     },
     "execution_count": 34,
     "metadata": {},
     "output_type": "execute_result"
    }
   ],
   "source": [
    "#Se puede crear a través de valores de la fila en base a unas columnas comunes.\n",
    "#Todo esto a través de un diccionario de Python.\n",
    "\n",
    "l = [{'col1' : 1, 'col2' : 3}, {'col1' : 4, 'col2' : 9}, \n",
    "     {'col1' : 12, 'col2' : 2}, {'col1' : 3, 'col2' : 7, 'col3' : 15}]\n",
    "otro_deitafreim = pd.DataFrame(l)\n",
    "print(otro_deitafreim, \"\\n\")\n",
    "\n",
    "print(otro_deitafreim['col2'], \"\\n\")#Con esto consultamos una columna concreta al igual que hacíamos con las series\n",
    "type(otro_deitafreim['col2'])#Podemos observar que cada columna es una serie de pandas.\n",
    "\n",
    "#Podemos reemplazar los NaN de distintas maneras:\n",
    "\n",
    "#La primera manera sería establecer 0s:\n",
    "otro_deitafreim['col3'].fillna(0, inplace=False)\n",
    "\n",
    "#En segundo lugar podríamos cambiarlo por alguna métrica\n",
    "#descriptiva de la columna:\n",
    "otro_deitafreim.fillna(otro_deitafreim['col2'].mean(), inplace=False)#Para que todos los numeros no sean iguales\n",
    "otro_deitafreim.fillna(otro_deitafreim['col2'].mode()[0], inplace=False)\n",
    "otro_deitafreim.fillna(otro_deitafreim['col2'].median(), inplace=False)\n",
    "\n",
    "\n",
    "#Cabe destacar que el inplace indica si queremos(True) una modificación total y permanente con los cambios realizados\n",
    "#del dataframe o una copia sin afectar al dataframe original(False) "
   ]
  },
  {
   "cell_type": "code",
   "execution_count": null,
   "metadata": {},
   "outputs": [
    {
     "name": "stdout",
     "output_type": "stream",
     "text": [
      "   col1  col2  col3  col4\n",
      "0     1     3   NaN     4\n",
      "1     4     9   NaN    13\n",
      "2    12     2   NaN    14\n",
      "3     3     7  15.0    10\n"
     ]
    }
   ],
   "source": [
    "#Como pandas tiene mucho de numpy, se pueden hacer operaciones gracias a la libreria:\n",
    "\n",
    "otro_deitafreim['col4'] = otro_deitafreim['col1'] + otro_deitafreim['col2']\n",
    "print(otro_deitafreim) #Creamos una columna nueva que es resultada de la suma de las dos primeras columnas"
   ]
  },
  {
   "cell_type": "code",
   "execution_count": 16,
   "metadata": {},
   "outputs": [
    {
     "data": {
      "text/html": [
       "<div>\n",
       "<style scoped>\n",
       "    .dataframe tbody tr th:only-of-type {\n",
       "        vertical-align: middle;\n",
       "    }\n",
       "\n",
       "    .dataframe tbody tr th {\n",
       "        vertical-align: top;\n",
       "    }\n",
       "\n",
       "    .dataframe thead th {\n",
       "        text-align: right;\n",
       "    }\n",
       "</style>\n",
       "<table border=\"1\" class=\"dataframe\">\n",
       "  <thead>\n",
       "    <tr style=\"text-align: right;\">\n",
       "      <th></th>\n",
       "      <th>col1</th>\n",
       "      <th>col2</th>\n",
       "      <th>col3</th>\n",
       "    </tr>\n",
       "  </thead>\n",
       "  <tbody>\n",
       "    <tr>\n",
       "      <th>0</th>\n",
       "      <td>1</td>\n",
       "      <td>3</td>\n",
       "      <td>NaN</td>\n",
       "    </tr>\n",
       "    <tr>\n",
       "      <th>1</th>\n",
       "      <td>4</td>\n",
       "      <td>9</td>\n",
       "      <td>NaN</td>\n",
       "    </tr>\n",
       "    <tr>\n",
       "      <th>2</th>\n",
       "      <td>12</td>\n",
       "      <td>2</td>\n",
       "      <td>NaN</td>\n",
       "    </tr>\n",
       "    <tr>\n",
       "      <th>3</th>\n",
       "      <td>3</td>\n",
       "      <td>7</td>\n",
       "      <td>15.0</td>\n",
       "    </tr>\n",
       "  </tbody>\n",
       "</table>\n",
       "</div>"
      ],
      "text/plain": [
       "   col1  col2  col3\n",
       "0     1     3   NaN\n",
       "1     4     9   NaN\n",
       "2    12     2   NaN\n",
       "3     3     7  15.0"
      ]
     },
     "execution_count": 16,
     "metadata": {},
     "output_type": "execute_result"
    }
   ],
   "source": [
    "#También podemos eliminar una columna del dataframe:\n",
    "del otro_deitafreim['col4']\n",
    "otro_deitafreim"
   ]
  },
  {
   "cell_type": "code",
   "execution_count": 17,
   "metadata": {},
   "outputs": [
    {
     "data": {
      "text/html": [
       "<div>\n",
       "<style scoped>\n",
       "    .dataframe tbody tr th:only-of-type {\n",
       "        vertical-align: middle;\n",
       "    }\n",
       "\n",
       "    .dataframe tbody tr th {\n",
       "        vertical-align: top;\n",
       "    }\n",
       "\n",
       "    .dataframe thead th {\n",
       "        text-align: right;\n",
       "    }\n",
       "</style>\n",
       "<table border=\"1\" class=\"dataframe\">\n",
       "  <thead>\n",
       "    <tr style=\"text-align: right;\">\n",
       "      <th></th>\n",
       "      <th>col0</th>\n",
       "      <th>col1</th>\n",
       "      <th>col2</th>\n",
       "      <th>col3</th>\n",
       "    </tr>\n",
       "  </thead>\n",
       "  <tbody>\n",
       "    <tr>\n",
       "      <th>0</th>\n",
       "      <td>4</td>\n",
       "      <td>1</td>\n",
       "      <td>3</td>\n",
       "      <td>NaN</td>\n",
       "    </tr>\n",
       "    <tr>\n",
       "      <th>1</th>\n",
       "      <td>13</td>\n",
       "      <td>4</td>\n",
       "      <td>9</td>\n",
       "      <td>NaN</td>\n",
       "    </tr>\n",
       "    <tr>\n",
       "      <th>2</th>\n",
       "      <td>14</td>\n",
       "      <td>12</td>\n",
       "      <td>2</td>\n",
       "      <td>NaN</td>\n",
       "    </tr>\n",
       "    <tr>\n",
       "      <th>3</th>\n",
       "      <td>10</td>\n",
       "      <td>3</td>\n",
       "      <td>7</td>\n",
       "      <td>15.0</td>\n",
       "    </tr>\n",
       "  </tbody>\n",
       "</table>\n",
       "</div>"
      ],
      "text/plain": [
       "   col0  col1  col2  col3\n",
       "0     4     1     3   NaN\n",
       "1    13     4     9   NaN\n",
       "2    14    12     2   NaN\n",
       "3    10     3     7  15.0"
      ]
     },
     "execution_count": 17,
     "metadata": {},
     "output_type": "execute_result"
    }
   ],
   "source": [
    "# Tenemos un método para insertar columnas que no sea necesariamente\n",
    "# en el último lugar\n",
    "otro_deitafreim.insert(0, 'col0', otro_deitafreim['col1'] + otro_deitafreim['col2'])\n",
    "otro_deitafreim"
   ]
  },
  {
   "cell_type": "code",
   "execution_count": 22,
   "metadata": {},
   "outputs": [
    {
     "data": {
      "text/plain": [
       "0     4\n",
       "1    13\n",
       "2    14\n",
       "3    10\n",
       "Name: col0, dtype: int64"
      ]
     },
     "execution_count": 22,
     "metadata": {},
     "output_type": "execute_result"
    }
   ],
   "source": [
    "#Otra manera sería con el método assign:\n",
    "otro_deitafreim = otro_deitafreim.assign(col67 = 4)#Establece la columna en la última posición\n",
    "otro_deitafreim['col0']"
   ]
  }
 ],
 "metadata": {
  "kernelspec": {
   "display_name": "Python 3",
   "language": "python",
   "name": "python3"
  },
  "language_info": {
   "codemirror_mode": {
    "name": "ipython",
    "version": 3
   },
   "file_extension": ".py",
   "mimetype": "text/x-python",
   "name": "python",
   "nbconvert_exporter": "python",
   "pygments_lexer": "ipython3",
   "version": "3.10.6"
  }
 },
 "nbformat": 4,
 "nbformat_minor": 2
}
