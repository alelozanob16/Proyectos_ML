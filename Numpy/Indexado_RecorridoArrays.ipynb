{
 "cells": [
  {
   "cell_type": "markdown",
   "metadata": {
    "vscode": {
     "languageId": "plaintext"
    }
   },
   "source": [
    "# Vamos a ver el indexado y el recorrido de arrays"
   ]
  },
  {
   "cell_type": "code",
   "execution_count": 2,
   "metadata": {},
   "outputs": [],
   "source": [
    "import numpy as np"
   ]
  },
  {
   "cell_type": "code",
   "execution_count": 9,
   "metadata": {},
   "outputs": [
    {
     "data": {
      "text/plain": [
       "array([ 0,  2,  4,  6,  8, 10, 12, 14, 16, 18, 20, 22, 24], dtype=int32)"
      ]
     },
     "execution_count": 9,
     "metadata": {},
     "output_type": "execute_result"
    }
   ],
   "source": [
    "from sys import getsizeof\n",
    "a = np.arange(25, step=2 ,dtype=np.int32)\n",
    "a.shape\n",
    "a"
   ]
  },
  {
   "cell_type": "code",
   "execution_count": 12,
   "metadata": {},
   "outputs": [
    {
     "data": {
      "text/plain": [
       "array([14, 18, 22], dtype=int32)"
      ]
     },
     "execution_count": 12,
     "metadata": {},
     "output_type": "execute_result"
    }
   ],
   "source": [
    "# Este fenomeno se llama slicing y consiste en consultar diferentes partes de un array a traves de indices simultaneamente. \n",
    "a[0:9:2]\n",
    "# Con este menos se puede consultar el array de manera inversa.\n",
    "a[-6:13:2]"
   ]
  },
  {
   "cell_type": "code",
   "execution_count": 20,
   "metadata": {},
   "outputs": [
    {
     "data": {
      "text/plain": [
       "np.int8(4)"
      ]
     },
     "execution_count": 20,
     "metadata": {},
     "output_type": "execute_result"
    }
   ],
   "source": [
    "arraso = np.array([[1,2,3,4],[5,6,7,8]], dtype=np.int8, ndmin=2)\n",
    "arraso[0,3]"
   ]
  },
  {
   "cell_type": "code",
   "execution_count": 26,
   "metadata": {},
   "outputs": [
    {
     "name": "stdout",
     "output_type": "stream",
     "text": [
      "a\n",
      "b\n",
      "c\n",
      "d\n",
      "e\n",
      "f\n",
      "g\n",
      "h\n",
      "i\n",
      "j\n",
      "a\n",
      "b\n",
      "c\n",
      "d\n",
      "e\n",
      "f\n",
      "g\n",
      "h\n",
      "i\n",
      "j\n"
     ]
    }
   ],
   "source": [
    "# Indexado Booleano consiste en consultar un array a traves de una mascara booleana/una condición.\n",
    "\n",
    "a > 10 # Con esto saca valores false y true dependiendo de si el valor es mayor a 10 o no.\n",
    "a[a > 10] # Con esto se sacan los valores que cumplen la condición.\n",
    "\n",
    "# Tambien se puede hacer con array de cadenas.\n",
    "\n",
    "c = np.array(['a','b','c','d','e','f','g','h','i','j'])\n",
    "c == 'g'\n",
    "c[c == 'j']\n",
    "for letra in np.nditer(c):\n",
    "    print(letra)\n",
    "for letra in c:\n",
    "    print(letra)\n",
    "# Dos maneras de recorrer el array distintas: con el bucle for normal y con el iterador de numpy.    "
   ]
  }
 ],
 "metadata": {
  "kernelspec": {
   "display_name": "Python 3",
   "language": "python",
   "name": "python3"
  },
  "language_info": {
   "codemirror_mode": {
    "name": "ipython",
    "version": 3
   },
   "file_extension": ".py",
   "mimetype": "text/x-python",
   "name": "python",
   "nbconvert_exporter": "python",
   "pygments_lexer": "ipython3",
   "version": "3.10.6"
  }
 },
 "nbformat": 4,
 "nbformat_minor": 2
}
