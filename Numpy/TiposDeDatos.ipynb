{
 "cells": [
  {
   "cell_type": "markdown",
   "metadata": {},
   "source": [
    "## Tipos de datos en Numpy"
   ]
  },
  {
   "cell_type": "code",
   "execution_count": 6,
   "metadata": {},
   "outputs": [
    {
     "name": "stdout",
     "output_type": "stream",
     "text": [
      "[[False  True  True False]\n",
      " [False  True False  True]]\n",
      "bool\n",
      "2\n"
     ]
    }
   ],
   "source": [
    "# Es interesante saber que podemos construir arrays/matrices de diferentes tipos, aunque los mas usados son los de tipo entero y flotante,\n",
    "# como se muestra en los ejemplos anteriores, tambien podemos crear arrays de tipo booleano, complejo, etc.\n",
    "\n",
    "import numpy as np\n",
    "a = np.array([[0,1,1,0],[0,1,0,1]], dtype=bool, ndmin=2)\n",
    "print(a)\n",
    "print(a.dtype)\n",
    "print(a.ndim)"
   ]
  },
  {
   "cell_type": "code",
   "execution_count": 11,
   "metadata": {},
   "outputs": [
    {
     "name": "stdout",
     "output_type": "stream",
     "text": [
      "El tamaño del array a es: 118\n",
      "El tamaño del array b es: 160\n"
     ]
    },
    {
     "data": {
      "text/plain": [
       "True"
      ]
     },
     "execution_count": 11,
     "metadata": {},
     "output_type": "execute_result"
    }
   ],
   "source": [
    "# Dentro de los ints y floats tenemos varios tipos, como int8, int16, int32, int64, float16, float32, float64, etc.\n",
    "# Dichos tipos soportan de menos a más bits y, por lo tanto, pesan más. Así que es muy importante tener en cuenta\n",
    "# que números vamos a necesitar para nuestro array en pos de ser mas eficientes\n",
    "# Por ejemplo:\n",
    "\n",
    "from sys import getsizeof\n",
    "a = np.array([1,2,3,4,5,6], dtype = np.int8)\n",
    "b = np.array([1,2,3,4,5,6], dtype = np.int64)\n",
    "print(\"El tamaño del array a es:\", getsizeof(a))\n",
    "print(\"El tamaño del array b es:\", getsizeof(b))\n",
    "\n",
    "a.dtype.type is np.int8"
   ]
  },
  {
   "cell_type": "code",
   "execution_count": 30,
   "metadata": {},
   "outputs": [
    {
     "data": {
      "text/plain": [
       "matrix([[1., 2., 3.],\n",
       "        [4., 5., 6.],\n",
       "        [7., 8., 9.]], dtype=float16)"
      ]
     },
     "execution_count": 30,
     "metadata": {},
     "output_type": "execute_result"
    }
   ],
   "source": [
    "# np.nan es un tipo de dato nulo en numpy, es decir, un valor que no es un número.\n",
    "a = np.array([1,2,3])\n",
    "np.isnan(a)\n",
    "\n",
    "# También tenemos el tipo matriz, con el podemos hacer una matriz de la siguiente manera:\n",
    "\n",
    "m = np.matrix('1 2 3 4 5 6 7 8 9 ; 12 14 234567 1234 1234 1234 1234 1234 1234', dtype=np.float128)\n",
    "getsizeof(m)\n",
    "m\n",
    "\n",
    "# Podemos convertir un array en una matriz, por ejemplo:\n",
    "k = np.array([[1,2,3],[4,5,6],[7,8,9]], dtype=np.float16)\n",
    "k\n",
    "\n",
    "eseMatrixBueno = np.asmatrix(k)\n",
    "eseMatrixBueno"
   ]
  }
 ],
 "metadata": {
  "kernelspec": {
   "display_name": "Python 3",
   "language": "python",
   "name": "python3"
  },
  "language_info": {
   "codemirror_mode": {
    "name": "ipython",
    "version": 3
   },
   "file_extension": ".py",
   "mimetype": "text/x-python",
   "name": "python",
   "nbconvert_exporter": "python",
   "pygments_lexer": "ipython3",
   "version": "3.10.6"
  }
 },
 "nbformat": 4,
 "nbformat_minor": 2
}
