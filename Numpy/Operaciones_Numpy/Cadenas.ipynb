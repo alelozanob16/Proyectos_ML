{
 "cells": [
  {
   "cell_type": "markdown",
   "metadata": {},
   "source": [
    "# Cadenas. Una serie de métodos que nos ayudan a filtrar en base al indexado booleano que realizan dichos métodos."
   ]
  },
  {
   "cell_type": "code",
   "execution_count": 2,
   "metadata": {},
   "outputs": [],
   "source": [
    "import numpy as np\n",
    "import numpy.char as cha"
   ]
  },
  {
   "cell_type": "code",
   "execution_count": 34,
   "metadata": {},
   "outputs": [
    {
     "name": "stdout",
     "output_type": "stream",
     "text": [
      "[list(['Mi', 'nombre', 'es', 'Alejandro', 'Lozano'])]\n"
     ]
    },
    {
     "data": {
      "text/plain": [
       "array(['Hola', 'Adios'], dtype='<U12')"
      ]
     },
     "execution_count": 34,
     "metadata": {},
     "output_type": "execute_result"
    }
   ],
   "source": [
    "#Vamos a concatenar arrays de cadenas\n",
    "a = np.array(['A', 'E', 'A', 'D'], dtype=np.str_)\n",
    "b = np.array(['L', 'J', 'N', 'R'], dtype=np.str_)\n",
    "cha.add(a,b)\n",
    "\n",
    "# Multiplica la aparición del carácter en el array por el valor que le pasemos. El orden es importante\n",
    "cha.multiply(a, [1,2,3,4])\n",
    "\n",
    "nombres = np.array([['antonio'], ['paco'], ['lucia'], ['maria']], dtype=np.str_)\n",
    "cha.capitalize(nombres) #Nos sirve para poder poner la primera letra/caracter en mayúscula en un array dado\n",
    "cha.replace(nombres, 'mar', 'sof') #Reemplaza el primer valor por el segundo que le indicamos\n",
    "nombre = np.array(['Mi nombre es Alejandro Lozano'])\n",
    "print(cha.split(nombre, sep=' ')) #A través de un separador(espacio en este caso) convierte el array de string\n",
    "#en un array de varios caracteres.\n",
    "C= np.array(['    Hola    ', '    Adios   '])\n",
    "cha.strip(C) #Elimina espacios al principio y final de la cadena\n"
   ]
  },
  {
   "cell_type": "code",
   "execution_count": 33,
   "metadata": {},
   "outputs": [
    {
     "data": {
      "text/plain": [
       "array(['A'], dtype='<U1')"
      ]
     },
     "execution_count": 33,
     "metadata": {},
     "output_type": "execute_result"
    }
   ],
   "source": [
    "#Operaciones con comparaciones de cadena\n",
    "\n",
    "sd = np.array(['A', 'D', 'W'], dtype=np.str_)\n",
    "xc = np.array(['A', 'V', 'S'], dtype=np.str_)\n",
    "cha.equal(sd, xc) #Nos devuelve un array booleano donde el true indica que si son iguales las posiciones que se comparan\n",
    "cha.not_equal(sd, xc) #Nos devuelve un array booleano donde el true indica que no son iguales las posiciones que se comparan\n",
    "cha.greater_equal(sd, xc) #Tiene en cuenta las posiciones del abecedarion también.\n",
    "#En este caso nos da True la comparación A con A y la comparación W con S dado que W va después de la S.\n",
    "cha.less_equal(sd,xc) #Aquí justo lo contrario si la letra se encuentra antes en el abecedario de la que se compara nos dará true.\n",
    "\n",
    "sd[cha.equal(sd,xc)] "
   ]
  },
  {
   "cell_type": "code",
   "execution_count": 32,
   "metadata": {},
   "outputs": [
    {
     "data": {
      "text/plain": [
       "array(['1234'], dtype='<U5')"
      ]
     },
     "execution_count": 32,
     "metadata": {},
     "output_type": "execute_result"
    }
   ],
   "source": [
    "#Información de Cadenas\n",
    "\n",
    "df = np.array(['Hola', 'Adios'])\n",
    "cha.endswith(df, suffix='ios') #Nos devuelve un array booleano donde el true nos dice que la palabra termina con el sufijo indicado\n",
    "cha.startswith(df, prefix='Ho') #Nos devuelve un array booleano donde el true nos dice que la palabra empieza con el prefijo indicado\n",
    "#Ambos métodos son key sensitive\n",
    "\n",
    "utr = np.array(['Hola', 'Adios', '1234'])\n",
    "cha.isdigit(utr) #Nos devuelve un array booleano donde el true nos dice que el elemento es un digito\n",
    "\n"
   ]
  }
 ],
 "metadata": {
  "kernelspec": {
   "display_name": "Python 3",
   "language": "python",
   "name": "python3"
  },
  "language_info": {
   "codemirror_mode": {
    "name": "ipython",
    "version": 3
   },
   "file_extension": ".py",
   "mimetype": "text/x-python",
   "name": "python",
   "nbconvert_exporter": "python",
   "pygments_lexer": "ipython3",
   "version": "3.10.6"
  }
 },
 "nbformat": 4,
 "nbformat_minor": 2
}
