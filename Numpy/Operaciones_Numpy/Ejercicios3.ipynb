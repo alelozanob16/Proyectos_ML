{
 "cells": [
  {
   "cell_type": "markdown",
   "metadata": {},
   "source": [
    "# Ejercicios 3"
   ]
  },
  {
   "cell_type": "code",
   "execution_count": null,
   "metadata": {},
   "outputs": [
    {
     "ename": "SyntaxError",
     "evalue": "invalid syntax (1370842784.py, line 2)",
     "output_type": "error",
     "traceback": [
      "\u001b[0;36m  Input \u001b[0;32mIn [41]\u001b[0;36m\u001b[0m\n\u001b[0;31m    apt-get matplotlib\u001b[0m\n\u001b[0m            ^\u001b[0m\n\u001b[0;31mSyntaxError\u001b[0m\u001b[0;31m:\u001b[0m invalid syntax\n"
     ]
    }
   ],
   "source": [
    "import numpy as np"
   ]
  },
  {
   "cell_type": "code",
   "execution_count": 24,
   "metadata": {},
   "outputs": [
    {
     "name": "stdout",
     "output_type": "stream",
     "text": [
      "True\n",
      "[  2   5   4   2  49  34  21   6 105]\n"
     ]
    }
   ],
   "source": [
    "#Ejercicio 1. A través de este array:\n",
    "a = np.array([2,5,4,2,49,34,59,21,45,6,105])\n",
    "#En primer lugar hay que imprimir si existe algun múltiplo de 7\n",
    "print(np.any(a%7==0))\n",
    "#Hay que devolver todos los valores del array que sean multiplos de 7 o sean menores de 40\n",
    "b = a[np.logical_or(a%7==0, a < 40)]\n",
    "print(b)"
   ]
  },
  {
   "cell_type": "code",
   "execution_count": 25,
   "metadata": {},
   "outputs": [
    {
     "name": "stdout",
     "output_type": "stream",
     "text": [
      "1763294400 \n",
      "\n",
      "[[  2   5   4]\n",
      " [  2  49  34]\n",
      " [ 21   6 105]] \n",
      "\n",
      "[ 11  85 132] \n",
      "\n",
      "[[0.30103    0.69897    0.60205999]\n",
      " [0.30103    1.69019608 1.53147892]\n",
      " [1.32221929 0.77815125 2.0211893 ]]\n"
     ]
    }
   ],
   "source": [
    "#Ejercicio 2: Con el array que nos devuelve el ejercicio anterior:\n",
    "#Hay que realizar los productos de los valores entre sí\n",
    "print(np.prod(b), \"\\n\")\n",
    "#Hay que convertir el array en una matriz 3x3 y sumar sus filas\n",
    "b = b.reshape(3,3)\n",
    "print(b, \"\\n\")\n",
    "print(np.sum(b, axis=1), \"\\n\")\n",
    "#Hay que calcular el logaritmo en base 10 de todos los elementos que acabamos de crear\n",
    "print(np.log10(b))"
   ]
  },
  {
   "cell_type": "code",
   "execution_count": 29,
   "metadata": {},
   "outputs": [
    {
     "name": "stdout",
     "output_type": "stream",
     "text": [
      "[[  2   8   9]\n",
      " [  2  52  39]\n",
      " [ 21   9 110]] \n",
      "\n",
      "[[        inf  1.66666667  0.8       ]\n",
      " [        inf 16.33333333  6.8       ]\n",
      " [        inf  2.         21.        ]] \n",
      "\n",
      "[[ 0.          1.66666667  0.8       ]\n",
      " [ 0.         16.33333333  6.8       ]\n",
      " [ 0.          2.         21.        ]] \n",
      "\n",
      "[ 0.         16.33333333 21.        ] \n",
      "\n",
      "[ 1.66666667 16.33333333 21.        ] \n",
      "\n"
     ]
    },
    {
     "name": "stderr",
     "output_type": "stream",
     "text": [
      "/var/folders/9q/x3cxwh3x3vz5xbqg35y1cbfh0000gn/T/ipykernel_15649/1278635187.py:5: RuntimeWarning: divide by zero encountered in divide\n",
      "  print(np.divide(b,v), \"\\n\")\n",
      "/var/folders/9q/x3cxwh3x3vz5xbqg35y1cbfh0000gn/T/ipykernel_15649/1278635187.py:7: RuntimeWarning: divide by zero encountered in divide\n",
      "  h = np.where(np.isinf(np.divide(b,v)), 0, np.divide(b,v))\n"
     ]
    }
   ],
   "source": [
    "#Ejercicio3: Con la matriz que tenemos y este vector:\n",
    "v = np.array([0,3,5])\n",
    "#Tenemos que sumarle a la matriz el vector\n",
    "print(np.add(b,v), \"\\n\")\n",
    "print(np.divide(b,v), \"\\n\")\n",
    "#Para cambiar los valores infinitos hacemos:\n",
    "h = np.where(np.isinf(np.divide(b,v)), 0, np.divide(b,v))\n",
    "print(h, \"\\n\")\n",
    "print(np.max(h, axis=0), \"\\n\")#Valor Máximo de las columnas\n",
    "print(np.max(h, axis = 1), \"\\n\")#Valor Máximo de las filas\n"
   ]
  },
  {
   "cell_type": "code",
   "execution_count": 34,
   "metadata": {},
   "outputs": [
    {
     "name": "stdout",
     "output_type": "stream",
     "text": [
      "[44 28  8 34 34 26 32 12 28  6 19 12 46 20 20 49 18 19 15 15 43  3  7 33\n",
      " 27 10 18  2  3 35 35 21 17 36 31 16 27  6 46 29 25 26 48  1 43 10 32 15\n",
      " 32 30 40 41 11 46  3  5 40  3 14 26 25 41 21 30 46  1  3  4 26  9 12 39\n",
      " 24 34 34 38  6 23 25 41 15  6  3 17 13 35 48  3 24 18 32 42 27 32  6 16\n",
      " 18 10 18 34  3 46 35 30  9 21 29 15 49 42 10  8 27 27 29 16 12 15 31 21\n",
      " 29 15 49 42 10  8 13 14 39 30  4 48  1 19 33 39  9  0 24  6 12 24 29 16\n",
      " 11 12 13 11]\n"
     ]
    }
   ],
   "source": [
    "#Ejercicio 4:\n",
    "#Con este array:\n",
    "dataset = np.array([\n",
    "    44, 28, 8, 34, 34, 26, 32, 12, 28, 6, 19, 12, 46, 20, 20, 49, 18,\n",
    "    19, 15, 15, 43, 3, 7, 33, 27, 10, 18, 2, 3, 35, 35, 21, 17,\n",
    "    36, 31, 16, 27, 6, 46, 29, 25, 26, 48, 1, 43, 10, 32,\n",
    "    15, 32, 30, 40, 41, 11, 46, 3, 5, 40, 3, 14, 26, 25, 41,\n",
    "    21, 30, 46, 1, 3, 4, 26, 9, 12, 39, 24, 34, 34, 38, 6, 23, 25, 41,\n",
    "    15, 6, 3, 17, 13, 35, 48, 3, 24, 18, 32, 42,\n",
    "    27, 32, 6, 16, 18, 10, 18, 34, 3, 46, 35, 30, 9,\n",
    "    21, 29, 15, 49, 42, 10, 8, 27, 27, 29, 16, 12, 15, 31,\n",
    "    21, 29, 15, 49, 42, 10, 8, 13, 14, 39, 30, 4, 48, 1, 19, 33,\n",
    "    39, 9, 0, 24, 6, 12, 24, 29, 16, 11, 12, 13, 11\n",
    "])\n",
    "print(dataset, \"\\n\")\n"
   ]
  },
  {
   "cell_type": "code",
   "execution_count": 36,
   "metadata": {},
   "outputs": [
    {
     "name": "stdout",
     "output_type": "stream",
     "text": [
      "22.66891891891892 \n",
      "\n",
      "21.0\n"
     ]
    }
   ],
   "source": [
    "#Hay que calcular la media y la mediana\n",
    "media = np.mean(dataset)\n",
    "print(media, \"\\n\")\n",
    "mediana = np.median(dataset)\n",
    "print(mediana)\n",
    "#Media != mediana porque distribución asimétrica, pero ligeramente."
   ]
  },
  {
   "cell_type": "code",
   "execution_count": 46,
   "metadata": {},
   "outputs": [
    {
     "name": "stdout",
     "output_type": "stream",
     "text": [
      "49 \n",
      "\n",
      "33.0 \n",
      "\n",
      "11.75 \n",
      "\n",
      "21.0\n"
     ]
    }
   ],
   "source": [
    "#Calculamos el tercer cuantil\n",
    "tercerCuartil = np.quantile(dataset, q = 0.75)\n",
    "print(np.max(dataset), \"\\n\")\n",
    "print(tercerCuartil, \"\\n\")#Valor que deja el 75% de los datos atrás\n",
    "\n",
    "#Calculamos el percentil 25\n",
    "percentil25 = np.percentile(dataset, q = 25)\n",
    "print(percentil25, \"\\n\")#Valor que deja el 25% de los datos atrás\n",
    "#Calculamos el percentil 50 que coincide con la mediana\n",
    "percentil50 = np.percentile(dataset, q = 50)\n",
    "print(percentil50)\n"
   ]
  },
  {
   "cell_type": "code",
   "execution_count": null,
   "metadata": {},
   "outputs": [
    {
     "name": "stdout",
     "output_type": "stream",
     "text": [
      "184.78903396639882 \n",
      "\n",
      "13.593713030897733\n"
     ]
    }
   ],
   "source": [
    "#Calculamos la varianza y, a partir de ahí, hacemos la desviación típica\n",
    "varianza = np.var(dataset)\n",
    "print(varianza, \"\\n\")\n",
    "desviacion_tipica = np.sqrt(varianza)\n",
    "#otra manera  = np.std(dataset)\n",
    "print(desviacion_tipica)"
   ]
  },
  {
   "cell_type": "code",
   "execution_count": 50,
   "metadata": {},
   "outputs": [
    {
     "data": {
      "text/plain": [
       "array([[0, 1, 2, 3, 4],\n",
       "       [5, 6, 7, 8, 9]])"
      ]
     },
     "execution_count": 50,
     "metadata": {},
     "output_type": "execute_result"
    }
   ],
   "source": [
    "a = np.arange(10)\n",
    "a.reshape((2,5))"
   ]
  }
 ],
 "metadata": {
  "kernelspec": {
   "display_name": "Python 3",
   "language": "python",
   "name": "python3"
  },
  "language_info": {
   "codemirror_mode": {
    "name": "ipython",
    "version": 3
   },
   "file_extension": ".py",
   "mimetype": "text/x-python",
   "name": "python",
   "nbconvert_exporter": "python",
   "pygments_lexer": "ipython3",
   "version": "3.10.6"
  }
 },
 "nbformat": 4,
 "nbformat_minor": 2
}
