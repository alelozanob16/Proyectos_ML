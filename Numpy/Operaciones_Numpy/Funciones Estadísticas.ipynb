{
 "cells": [
  {
   "cell_type": "markdown",
   "metadata": {},
   "source": [
    "# Funciones Estadísticas(importante)"
   ]
  },
  {
   "cell_type": "code",
   "execution_count": 2,
   "metadata": {},
   "outputs": [],
   "source": [
    "import numpy as np"
   ]
  },
  {
   "cell_type": "code",
   "execution_count": null,
   "metadata": {},
   "outputs": [
    {
     "name": "stdout",
     "output_type": "stream",
     "text": [
      "[[ 0  1  2  3  4]\n",
      " [ 5  6  7  8  9]\n",
      " [10 11 12 13 14]\n",
      " [15 16 17 18 19]] \n",
      "\n",
      "2 \n",
      "\n",
      "8 \n",
      "\n",
      "[15 16 17 18 19] \n",
      "\n",
      "[ 4  9 14 19] \n",
      "\n",
      "[0 1 2 3 4] \n",
      "\n",
      "[ 0  5 10 15] \n",
      "\n"
     ]
    }
   ],
   "source": [
    "#Funciones relacionadas con el ordén\n",
    "a = np.array([2,3,4,5,6,7,8])\n",
    "b = np.arange(0,20).reshape(4,5)\n",
    "print(b,\"\\n\")\n",
    "print(np.min(a),\"\\n\")#El míninmo de un array unidimensional\n",
    "print(np.max(a),\"\\n\")#El máximo de un array unidimensional\n",
    "\n",
    "print(np.max(b, axis=0),\"\\n\")#Imprime el máximo de la columnas(se lee de manera vertical)\n",
    "print(np.max(b, axis=1),\"\\n\")#Imprime el máximo de las filas(se lee de manera horizontal)\n",
    "print(np.min(b, axis=0),\"\\n\")#Imprime el mínimo de las columnas(se lee de manera vertical)\n",
    "print(np.min(b, axis=1),\"\\n\")#Imprime el mínimo de las filas(se lee de manera horizontal)"
   ]
  },
  {
   "cell_type": "code",
   "execution_count": null,
   "metadata": {},
   "outputs": [
    {
     "name": "stdout",
     "output_type": "stream",
     "text": [
      "912.0\n",
      "1205.5\n"
     ]
    }
   ],
   "source": [
    "#Percentiles y cuantiles\n",
    "f = np.arange(325,1500)\n",
    "print(np.percentile(f, q=50))#Te dice el valor que deja un % atrás de la muestra. Esto es muy útil para reconocer outliers dado que\n",
    "#si tenemos un dataset donde el valor máximo es de 2000 y el minimo de 100 y el percentil 90 es 350, te está diciendo que\n",
    "#tenemos un 10% de los datos restantes entre el valor 350 y 2000 por lo que hay mucha diferencia y habrá que suavizar la distribución\n",
    "print(np.quantile(f, 0.75))#Es otra manera de reconocer outliers que generarán sesgo en el desarrollo del modelo.Normalmente\n",
    "#se usan los cuantiles 0.25, 0.5, 0.75 aunque vale cualquier número del 0 al 1.as_integer_ratio\n"
   ]
  },
  {
   "cell_type": "code",
   "execution_count": 44,
   "metadata": {},
   "outputs": [
    {
     "name": "stdout",
     "output_type": "stream",
     "text": [
      "912.0\n",
      "912.0\n",
      "4327.5\n",
      "4327.5\n",
      "4327.5 \n",
      "\n",
      "[[ 1  2  3  4  5]\n",
      " [ 6  7  8  9 10]\n",
      " [11 12 13 14 15]]\n",
      "[ 6.  7.  8.  9. 10.]\n",
      "[ 3.  8. 13.] \n",
      "\n",
      "[[2345    3  789]\n",
      " [  23   67    3]] \n",
      "\n",
      "[1184.   35.  396.] \n",
      "\n",
      "[1045.66666667   31.        ] \n",
      "\n",
      "[1184.   35.  396.] \n",
      "\n",
      "[789.  23.]\n"
     ]
    },
    {
     "data": {
      "text/plain": [
       "(2, 3)"
      ]
     },
     "execution_count": 44,
     "metadata": {},
     "output_type": "execute_result"
    }
   ],
   "source": [
    "#Medias y Varianzas\n",
    "print(np.mean(f))#La media no la usamos porque puede estar sesgada por los outliers\n",
    "print(np.median(f))#Es el valor central donde deja, en términos de valor, el 50% de los datos a la izquierda y a la derecha.\n",
    "h = np.array([123415,645,7765,890,456,8765])\n",
    "print(np.median(h))\n",
    "print(np.quantile(h, q=0.5))\n",
    "print(np.percentile(h, q=50), \"\\n\")\n",
    "#La media es igual a la mediana en una distribución simétrica como en una campana de Gauss\n",
    "#o en una distribución lineal perfectamente equilibrada como una progresión aritmética con una constante como diferencia común\n",
    "\n",
    "y = np.array([[1,2,3,4,5],[6,7,8,9,10], [11,12,13,14,15]])\n",
    "print(y)\n",
    "print(np.mean(y, axis=0))#Media columnas\n",
    "print(np.mean(y, axis=1),\"\\n\")#Media filas\n",
    "\n",
    "w = np.array([[2345,3,789],[23,67,3]])\n",
    "print(w, \"\\n\")\n",
    "print(np.mean(w, axis=0), \"\\n\")#Columnas\n",
    "print(np.mean(w, axis=1), \"\\n\")#Filas\n",
    "print(np.median(w, axis=0), \"\\n\")#Columnas\n",
    "print(np.median(w, axis=1))#Filaas\n",
    "#Con el array w, al no tener una distribución simétrica, la mediana y la media dan valores distintos\n",
    "\n",
    "\n",
    " "
   ]
  },
  {
   "cell_type": "code",
   "execution_count": 47,
   "metadata": {},
   "outputs": [
    {
     "name": "stdout",
     "output_type": "stream",
     "text": [
      "[[  23  667   54]\n",
      " [3306 8888 8844]] \n",
      "\n",
      "[1641.5 4110.5 4395. ] \n",
      "\n",
      "[ 296.54791631 2621.07068878] \n",
      "\n",
      "[ 2694522.25 16896210.25 19316025.  ] \n",
      "\n",
      "[  87940.66666667 6870011.55555556]\n"
     ]
    }
   ],
   "source": [
    "#Desviación Estándar\n",
    "hp = np.array([[23,667,54], [3306,8888,8844]])\n",
    "print(hp, \"\\n\")\n",
    "print(np.std(hp, axis=0), \"\\n\")#Desviación estándar de las columnas\n",
    "print(np.std(hp, axis=1), \"\\n\")#Desviación estándar de las filas\n",
    "\n",
    "#La desviación estándar es la raíz cuadrada del promedio de las desviaciones al cuadrado de la media, es decir:\n",
    "#std = sqtr/raíz cuadrada(mean(abs(x - x.mean())**2))\n",
    "\n",
    "#La varianza sería:\n",
    "print(np.var(hp, axis = 0), \"\\n\")#Columnas\n",
    "print(np.var(hp, axis = 1))#Filas\n",
    "#Al final la varianza y la desviación estándar miden lo mismo pero la desviación estándar es más fácil de interpretar\n",
    "#dado que está en las mismas unidades que los datos de los que disponemos. La desviacion estandar se calcula como \n",
    "#la raíz cuadrada de la varianza."
   ]
  }
 ],
 "metadata": {
  "kernelspec": {
   "display_name": "Python 3",
   "language": "python",
   "name": "python3"
  },
  "language_info": {
   "codemirror_mode": {
    "name": "ipython",
    "version": 3
   },
   "file_extension": ".py",
   "mimetype": "text/x-python",
   "name": "python",
   "nbconvert_exporter": "python",
   "pygments_lexer": "ipython3",
   "version": "3.10.6"
  }
 },
 "nbformat": 4,
 "nbformat_minor": 2
}
