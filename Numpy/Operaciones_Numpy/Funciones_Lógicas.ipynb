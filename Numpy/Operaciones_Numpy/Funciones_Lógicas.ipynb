{
 "cells": [
  {
   "cell_type": "markdown",
   "metadata": {},
   "source": [
    "# Funciones Lógicas"
   ]
  },
  {
   "cell_type": "code",
   "execution_count": 1,
   "metadata": {},
   "outputs": [],
   "source": [
    "import numpy as np"
   ]
  },
  {
   "cell_type": "code",
   "execution_count": 6,
   "metadata": {},
   "outputs": [
    {
     "name": "stdout",
     "output_type": "stream",
     "text": [
      "True\n",
      "True\n",
      "[6 7]\n"
     ]
    }
   ],
   "source": [
    "a = np.array([2,3,4,5,6,7])\n",
    "print(np.all(a < 10))#Nos devuelve true or false en base si todos los elementos del array cumplen o no con una condición\n",
    "print(np.any(a > 5))#Nos devuelve true or false en base si algún elemento del array cumplen o no con una condición\n",
    "print(a[a > 5])#En base a la indexación booleana individual aquói si podríamos ver los numeros que cumplen la condición\n"
   ]
  },
  {
   "cell_type": "code",
   "execution_count": null,
   "metadata": {},
   "outputs": [
    {
     "data": {
      "text/plain": [
       "array([2, 3, 7])"
      ]
     },
     "execution_count": 10,
     "metadata": {},
     "output_type": "execute_result"
    }
   ],
   "source": [
    "a[np.logical_and(a > 2, a < 4)]#Aquí si nos lo imprime porque es individual también, aplical el \"y\"\n",
    "a[np.logical_or(a < 4, a > 6)]#Aquí si nos lo imprime porque es individual también, aplical el \"o\""
   ]
  },
  {
   "cell_type": "code",
   "execution_count": null,
   "metadata": {},
   "outputs": [
    {
     "data": {
      "text/plain": [
       "array([False, False,  True,  True, False, False])"
      ]
     },
     "execution_count": 16,
     "metadata": {},
     "output_type": "execute_result"
    }
   ],
   "source": [
    "b = np.array([1,2,4,8,2,5])\n",
    "np.array_equal(a,b)#Comprueba si dos arrays son iguales o no\n",
    "print(np.greater_equal(b,a))#Compara numero a numero si es igual o mayor\n",
    "print(np.greater_equal(a,b))#El ordén que le pasamos es importante\n",
    "print(np.less_equal(a,b))#Es lo mismo pero comparando si es menor o igual."
   ]
  }
 ],
 "metadata": {
  "kernelspec": {
   "display_name": "Python 3",
   "language": "python",
   "name": "python3"
  },
  "language_info": {
   "codemirror_mode": {
    "name": "ipython",
    "version": 3
   },
   "file_extension": ".py",
   "mimetype": "text/x-python",
   "name": "python",
   "nbconvert_exporter": "python",
   "pygments_lexer": "ipython3",
   "version": "3.10.6"
  }
 },
 "nbformat": 4,
 "nbformat_minor": 2
}
