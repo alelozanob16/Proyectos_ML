{
 "cells": [
  {
   "cell_type": "markdown",
   "metadata": {},
   "source": [
    "# Manipulación de Arrays"
   ]
  },
  {
   "cell_type": "code",
   "execution_count": 1,
   "metadata": {},
   "outputs": [],
   "source": [
    "import numpy as np"
   ]
  },
  {
   "cell_type": "code",
   "execution_count": 9,
   "metadata": {},
   "outputs": [
    {
     "data": {
      "text/plain": [
       "array([[ 1.,  4.],\n",
       "       [ 2.,  3.],\n",
       "       [ 3.,  2.],\n",
       "       [ 4., nan]])"
      ]
     },
     "execution_count": 9,
     "metadata": {},
     "output_type": "execute_result"
    }
   ],
   "source": [
    "a = np.array([[1,2,3,4], [4,3,2,np.nan]])\n",
    "a.shape\n",
    "a.reshape((4,2))\n",
    "a.ravel() # Con esto convertimos un array multidimensional(matriz) en un array unidimensional.\n",
    "a.T # Con esto le da la vuelta a las dimensiones: en este caso teniamos un 4,2 pues sería un 2,4\n",
    "#Estos serían los métodos más interesantes en cuanto a las dimensiones del array."
   ]
  },
  {
   "cell_type": "code",
   "execution_count": 10,
   "metadata": {},
   "outputs": [
    {
     "ename": "ValueError",
     "evalue": "array must not contain infs or NaNs",
     "output_type": "error",
     "traceback": [
      "\u001b[0;31m---------------------------------------------------------------------------\u001b[0m",
      "\u001b[0;31mValueError\u001b[0m                                Traceback (most recent call last)",
      "Input \u001b[0;32mIn [10]\u001b[0m, in \u001b[0;36m<cell line: 2>\u001b[0;34m()\u001b[0m\n\u001b[1;32m      1\u001b[0m \u001b[38;5;66;03m# Tipos de Arrays\u001b[39;00m\n\u001b[0;32m----> 2\u001b[0m \u001b[43mnp\u001b[49m\u001b[38;5;241;43m.\u001b[39;49m\u001b[43masarray_chkfinite\u001b[49m\u001b[43m(\u001b[49m\u001b[43ma\u001b[49m\u001b[43m)\u001b[49m\n",
      "File \u001b[0;32m/Library/Frameworks/Python.framework/Versions/3.10/lib/python3.10/site-packages/numpy/lib/_function_base_impl.py:646\u001b[0m, in \u001b[0;36masarray_chkfinite\u001b[0;34m(a, dtype, order)\u001b[0m\n\u001b[1;32m    644\u001b[0m a \u001b[38;5;241m=\u001b[39m asarray(a, dtype\u001b[38;5;241m=\u001b[39mdtype, order\u001b[38;5;241m=\u001b[39morder)\n\u001b[1;32m    645\u001b[0m \u001b[38;5;28;01mif\u001b[39;00m a\u001b[38;5;241m.\u001b[39mdtype\u001b[38;5;241m.\u001b[39mchar \u001b[38;5;129;01min\u001b[39;00m typecodes[\u001b[38;5;124m'\u001b[39m\u001b[38;5;124mAllFloat\u001b[39m\u001b[38;5;124m'\u001b[39m] \u001b[38;5;129;01mand\u001b[39;00m \u001b[38;5;129;01mnot\u001b[39;00m np\u001b[38;5;241m.\u001b[39misfinite(a)\u001b[38;5;241m.\u001b[39mall():\n\u001b[0;32m--> 646\u001b[0m     \u001b[38;5;28;01mraise\u001b[39;00m \u001b[38;5;167;01mValueError\u001b[39;00m(\n\u001b[1;32m    647\u001b[0m         \u001b[38;5;124m\"\u001b[39m\u001b[38;5;124marray must not contain infs or NaNs\u001b[39m\u001b[38;5;124m\"\u001b[39m)\n\u001b[1;32m    648\u001b[0m \u001b[38;5;28;01mreturn\u001b[39;00m a\n",
      "\u001b[0;31mValueError\u001b[0m: array must not contain infs or NaNs"
     ]
    }
   ],
   "source": [
    "# Tipos de Arrays\n",
    "np.asarray_chkfinite(a) # Método de numpy que nos indica si existen nan o infinitos dentro del array(si existiesen dará error)"
   ]
  },
  {
   "cell_type": "code",
   "execution_count": 25,
   "metadata": {},
   "outputs": [
    {
     "name": "stdout",
     "output_type": "stream",
     "text": [
      "(2, 3)\n",
      "(1, 3) \n",
      "\n",
      "[[ 1  2  4]\n",
      " [ 3  4  5]\n",
      " [ 2 34  7]] \n",
      "\n",
      "[[ 1  3  2]\n",
      " [ 2  4 34]\n",
      " [ 4  5  7]]\n"
     ]
    }
   ],
   "source": [
    "# Unión de Arrays con np.concatenate\n",
    "c = np.array([[1,2,4], [3,4,5]])\n",
    "d = np.array([[2,34,7]])\n",
    "print(c.shape)\n",
    "print(d.shape, \"\\n\")\n",
    "\n",
    "print(np.concatenate((c, d), axis=0), \"\\n\") #Es importante decir que axis es el parámetro que nos indica a nivel de que se concatena,\n",
    "# si su valor es 0 entonces se concatena a nivel de fila y si su valor es 1 entonces será a nivel de columna\n",
    "\n",
    "print(np.concatenate((c.T,d.T), axis = 1)) #Tenemos que aplicar el transpose para que tengan las mismas columnas y se pueda concatenar.\n",
    "\n",
    "# También podemos usar np.stack y funciona igual.\n"
   ]
  },
  {
   "cell_type": "code",
   "execution_count": null,
   "metadata": {},
   "outputs": [
    {
     "name": "stdout",
     "output_type": "stream",
     "text": [
      "[ 1  3  5  7  9 11 13 15 17 19] \n",
      "\n"
     ]
    },
    {
     "data": {
      "text/plain": [
       "[array([0, 1]),\n",
       " array([2, 3, 4, 5, 6, 7, 8, 9]),\n",
       " array([10, 11, 12, 13]),\n",
       " array([14, 15, 16, 17, 18, 19])]"
      ]
     },
     "execution_count": 81,
     "metadata": {},
     "output_type": "execute_result"
    }
   ],
   "source": [
    "#Division de Arrays con np.split\n",
    "f = np.arange(0,20)\n",
    "f_impares = f[1:20:2]\n",
    "print(f_impares, \"\\n\")\n",
    "np.split(f, indices_or_sections=4)\n",
    "np.split(f, [2,10,14])# También se puede hacer por rangos de valores el split(es más interesante porque no hace falta poner \n",
    "# un nº de secciones que sean divisibles por la longitud del array para que devueva arrays del mismo tamaño)\n"
   ]
  },
  {
   "cell_type": "code",
   "execution_count": 90,
   "metadata": {},
   "outputs": [
    {
     "name": "stdout",
     "output_type": "stream",
     "text": [
      "[ 0.  1.  2.  3.  4.  5.  6.  7.  8.  9. 10. 11. 12. 13. 14.]\n"
     ]
    },
    {
     "data": {
      "text/plain": [
       "array([ 0.,  1.,  2.,  3.,  5.,  6.,  7.,  8.,  9., 10., 11., 12., 13.,\n",
       "       14.], dtype=float32)"
      ]
     },
     "execution_count": 90,
     "metadata": {},
     "output_type": "execute_result"
    }
   ],
   "source": [
    "#Añadir y eliminar elementos de un array\n",
    "\n",
    "#Para insertar:\n",
    "a = np.arange(0, 15, dtype='float32')\n",
    "print(a)\n",
    "np.insert(a, obj=3, values=[2.2, 2.5]) #Utilizamos insert para insertar en cualquier posición.\n",
    "np.append(a, values=[5,6]) #Utilizamos append para insertar en la posición final.\n",
    "np.delete(a, obj=4)\n"
   ]
  },
  {
   "cell_type": "code",
   "execution_count": 98,
   "metadata": {},
   "outputs": [
    {
     "data": {
      "text/plain": [
       "array([120,   0, 123])"
      ]
     },
     "execution_count": 98,
     "metadata": {},
     "output_type": "execute_result"
    }
   ],
   "source": [
    "#Existen otros métodos como np.trim_zeros y np.unique.\n",
    "\n",
    "bv = np.array([0,0,0,0,0,120,0,123,0,0,0,0,0])\n",
    "np.trim_zeros(bv) #Elimina los ceros de antes y después de los valores que no son ceros. Si en medio de los valores hay un 0, se queda. \n",
    "\n",
    "#ui = np.asarray([1,1,1,1,1,23,45,7,9])\n",
    "#np.unique(ui) \n"
   ]
  }
 ],
 "metadata": {
  "kernelspec": {
   "display_name": "Python 3",
   "language": "python",
   "name": "python3"
  },
  "language_info": {
   "codemirror_mode": {
    "name": "ipython",
    "version": 3
   },
   "file_extension": ".py",
   "mimetype": "text/x-python",
   "name": "python",
   "nbconvert_exporter": "python",
   "pygments_lexer": "ipython3",
   "version": "3.10.6"
  }
 },
 "nbformat": 4,
 "nbformat_minor": 2
}
