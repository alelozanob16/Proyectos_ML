{
 "cells": [
  {
   "cell_type": "markdown",
   "metadata": {},
   "source": [
    "# Álgebra Lineal con Numpy"
   ]
  },
  {
   "cell_type": "code",
   "execution_count": 17,
   "metadata": {},
   "outputs": [],
   "source": [
    "import numpy as np\n",
    "import numpy.linalg as al"
   ]
  },
  {
   "cell_type": "code",
   "execution_count": 14,
   "metadata": {},
   "outputs": [
    {
     "data": {
      "text/plain": [
       "array([[ 8, 10],\n",
       "       [ 5,  8]], dtype=int32)"
      ]
     },
     "execution_count": 14,
     "metadata": {},
     "output_type": "execute_result"
    }
   ],
   "source": [
    "# Lo primero que vamos a realizar es la multiplicación matricial\n",
    "\n",
    "a = np.array([[3,2], [1, 3]], dtype='int32')\n",
    "b = np.array([[2,2], [1,2]], dtype='int32')\n",
    "\n",
    "np.dot(a,b)\n",
    "np.dot(b,a)"
   ]
  },
  {
   "cell_type": "code",
   "execution_count": 30,
   "metadata": {},
   "outputs": [
    {
     "name": "stdout",
     "output_type": "stream",
     "text": [
      "17\n",
      "[ 5 14] \n",
      "\n",
      "[[  1399   2640    329   3534]\n",
      " [  2453   4629    586   6199]\n",
      " [  1412   2660    352   3564]\n",
      " [304831 577168  71185 773638]] \n",
      "\n",
      "[[  1399   2640    329   3534]\n",
      " [  2453   4629    586   6199]\n",
      " [  1412   2660    352   3564]\n",
      " [304831 577168  71185 773638]]\n"
     ]
    }
   ],
   "source": [
    "# El producto escalar de un vector es:\n",
    "print(np.vdot(a,b))\n",
    "\n",
    "# El producto interno se haria así:\n",
    "c = np.arange(6).reshape(2,3)\n",
    "d = np.arange(3)\n",
    "print(np.inner(c,d), \"\\n\")\n",
    "\n",
    "#Para elevar una matriz debemos hacer:\n",
    "e = np.array([[1,2,3,4],[3,5,5,7], [4,4,4,4], [345, 654, 76, 876]], dtype='int32', ndmin=2)\n",
    "print(al.matrix_power(e,2), \"\\n\")\n",
    "print(np.dot(e,e))"
   ]
  },
  {
   "cell_type": "code",
   "execution_count": 32,
   "metadata": {},
   "outputs": [
    {
     "name": "stdout",
     "output_type": "stream",
     "text": [
      "EigResult(eigenvalues=array([4., 3., 2., 1.]), eigenvectors=array([[1., 0., 0., 0.],\n",
      "       [0., 1., 0., 0.],\n",
      "       [0., 0., 1., 0.],\n",
      "       [0., 0., 0., 1.]])) \n",
      "\n",
      "24.000000000000004\n"
     ]
    }
   ],
   "source": [
    "#Valores propios / Determinantes y vectores propios\n",
    "m = np.diag([4,3,2,1])\n",
    "print(al.eig(m), \"\\n\") #Asi se calculan los valores propios\n",
    "print(al.det(m)) #Así se calcula el determinante de una matriz\n",
    " "
   ]
  },
  {
   "cell_type": "code",
   "execution_count": 33,
   "metadata": {},
   "outputs": [
    {
     "data": {
      "text/plain": [
       "array([2., 3.])"
      ]
     },
     "execution_count": 33,
     "metadata": {},
     "output_type": "execute_result"
    }
   ],
   "source": [
    "z = np.array([[3,1], [1,2]])\n",
    "j = np.array([9,8])\n",
    "# También se pueden resolver ecuaciones en numpy con np.linalg.solve()\n",
    "al.solve(z,j) #Resuelve el sistema de ecuaciones basado en z(matriz coeficiente) y j(vector de términos independientes).\n",
    "#Es decir multiplicar la matriz z por los valores x(a descubrir) nos da como resultado j.\n",
    "\n"
   ]
  }
 ],
 "metadata": {
  "kernelspec": {
   "display_name": "Python 3",
   "language": "python",
   "name": "python3"
  },
  "language_info": {
   "codemirror_mode": {
    "name": "ipython",
    "version": 3
   },
   "file_extension": ".py",
   "mimetype": "text/x-python",
   "name": "python",
   "nbconvert_exporter": "python",
   "pygments_lexer": "ipython3",
   "version": "3.10.6"
  }
 },
 "nbformat": 4,
 "nbformat_minor": 2
}
