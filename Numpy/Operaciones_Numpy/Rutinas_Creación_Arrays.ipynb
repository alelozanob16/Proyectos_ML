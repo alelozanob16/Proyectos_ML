{
 "cells": [
  {
   "cell_type": "markdown",
   "metadata": {},
   "source": [
    "# Rutinas para la creación de arrays"
   ]
  },
  {
   "cell_type": "code",
   "execution_count": 1,
   "metadata": {},
   "outputs": [],
   "source": [
    "import numpy as np"
   ]
  },
  {
   "cell_type": "code",
   "execution_count": 7,
   "metadata": {},
   "outputs": [
    {
     "name": "stdout",
     "output_type": "stream",
     "text": [
      "[[0 1 0 0]\n",
      " [0 0 1 0]\n",
      " [0 0 0 1]\n",
      " [0 0 0 0]]\n",
      "[[1 0 0]\n",
      " [0 1 0]\n",
      " [0 0 1]]\n",
      "[[5 5 5 5]\n",
      " [5 5 5 5]\n",
      " [5 5 5 5]\n",
      " [5 5 5 5]]\n",
      "[[1 2 3 4]\n",
      " [1 2 3 4]\n",
      " [1 2 3 4]\n",
      " [1 2 3 4]]\n"
     ]
    }
   ],
   "source": [
    "# Con np.eye lo que hacemos es crear una matriz identidad de 3x3 cuya diagonal principal es 1\n",
    "print(np.eye(4, k=1, dtype=int)) # k=1 indica que la diagonal principal se desplaza una posición hacia arriba y\n",
    "# si fuera k=-1 se desplazaría una posición hacia abajo. Vale con cualquier número entero.\n",
    "\n",
    "# Tamnbién tenemos la matriz identidad de 3x3 con np.identity\n",
    "print(np.identity(3, dtype=int)) # Esta función solo tiene un parámetro que es el tamaño de la matriz identidad\n",
    "\n",
    "# Existe np.full para la creación de matrices con un valor constante o si le pasamos un array con los valores será una fila\n",
    "print(np.full(shape=(4,4) , fill_value=5)) # Creamos una matriz de 3x3 con todos los valores a 5\n",
    "print(np.full(shape=(4,4), fill_value=[1,2,3,4])) # Creamos una matriz de 3x3 con los valores de la fila [1,2,3,4]"
   ]
  },
  {
   "cell_type": "code",
   "execution_count": 30,
   "metadata": {},
   "outputs": [
    {
     "data": {
      "text/plain": [
       "array([1, 2, 3, 4, 5])"
      ]
     },
     "execution_count": 30,
     "metadata": {},
     "output_type": "execute_result"
    }
   ],
   "source": [
    "#Creación de Arrays desde datos existentes\n",
    "np.fromstring('1 2 3 4 5 6 7 8 9 9', sep=' ') # Creamos un array a partir de una cadena de texto.\n",
    "np.fromiter('abcde', dtype='U1')\n",
    "np.fromiter([1,2,3,4,5], dtype=int) # Creamos un array a partir de un iterable con este si que podemos usar tanto caracteres como números.\n"
   ]
  },
  {
   "cell_type": "code",
   "execution_count": null,
   "metadata": {},
   "outputs": [
    {
     "name": "stdout",
     "output_type": "stream",
     "text": [
      "[[ 1.  2.  4.]\n",
      " [ 5.  6.  7.]\n",
      " [ 8.  9. 10.]]\n"
     ]
    }
   ],
   "source": [
    "# Creación de Arrays con np.loadtxt, crea un array en base a los datos de un fichero de texto(este es muy interesante)\n",
    "array_desde_fichero = np.loadtxt('/Users/alejandro/Desktop/Proyectos_ML/Numpy/datos.txt', delimiter=' ') # Cargamos un array desde un fichero de texto\n",
    "print(array_desde_fichero) # Mostramos el array cargado desde el fichero"
   ]
  },
  {
   "cell_type": "code",
   "execution_count": 39,
   "metadata": {},
   "outputs": [
    {
     "name": "stdout",
     "output_type": "stream",
     "text": [
      "(array([ 1.  ,  3.25,  5.5 ,  7.75, 10.  ]), np.float64(2.25))\n"
     ]
    }
   ],
   "source": [
    "# Creación de rangos numéricos\n",
    "a = np.linspace(start = 1, stop = 10, num = 5, endpoint=True, retstep=True)# El num dice el numero de elementos que quiere en el array.\n",
    "# Con el parametro \"endpoint\" lo que hacemos es que incluimos o no el valor de stop en el array u retsep nos dice el salto que da el array\n",
    "print(a)"
   ]
  },
  {
   "cell_type": "code",
   "execution_count": 40,
   "metadata": {},
   "outputs": [
    {
     "data": {
      "text/plain": [
       "array([[1., 0., 0., 0., 0.],\n",
       "       [1., 1., 0., 0., 0.],\n",
       "       [1., 1., 1., 0., 0.],\n",
       "       [1., 1., 1., 1., 0.],\n",
       "       [1., 1., 1., 1., 1.]])"
      ]
     },
     "execution_count": 40,
     "metadata": {},
     "output_type": "execute_result"
    }
   ],
   "source": [
    "# Con np.tri lo que hacemos es crear una matriz de las dimensiones que le indiquemos y deja por encima de la diagonal 0s\n",
    "# y por debajo de la diagonal 1s.\n",
    "np.tri(5,5)"
   ]
  }
 ],
 "metadata": {
  "kernelspec": {
   "display_name": "Python 3",
   "language": "python",
   "name": "python3"
  },
  "language_info": {
   "codemirror_mode": {
    "name": "ipython",
    "version": 3
   },
   "file_extension": ".py",
   "mimetype": "text/x-python",
   "name": "python",
   "nbconvert_exporter": "python",
   "pygments_lexer": "ipython3",
   "version": "3.10.6"
  }
 },
 "nbformat": 4,
 "nbformat_minor": 2
}
