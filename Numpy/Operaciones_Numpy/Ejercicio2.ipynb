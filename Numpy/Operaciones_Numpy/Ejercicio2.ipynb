{
 "cells": [
  {
   "cell_type": "markdown",
   "metadata": {},
   "source": [
    "# Ejercicios 2"
   ]
  },
  {
   "cell_type": "code",
   "execution_count": 66,
   "metadata": {},
   "outputs": [],
   "source": [
    "import numpy as np\n",
    "import numpy.char as cha\n",
    "import numpy.linalg as al"
   ]
  },
  {
   "cell_type": "code",
   "execution_count": 67,
   "metadata": {},
   "outputs": [
    {
     "name": "stdout",
     "output_type": "stream",
     "text": [
      "[[ 0.  4.  8. 12. 16.]\n",
      " [20. 24. 28. 32. 36.]\n",
      " [40. 44. 48. 52. 56.]\n",
      " [60. 64. 68. 72. 76.]\n",
      " [80. 84. 88. 92. 96.]] \n",
      "\n",
      "[ 0. 24. 48. 72. 96.] \n",
      "\n",
      "[ 4. 28. 52. 76.]\n"
     ]
    }
   ],
   "source": [
    "#Ejercicio 1\n",
    "#Hay que generar un array del 0 al 99 y ver la diagonal principal y la superior a la principal.\n",
    "\n",
    "array_lineal = np.linspace(start=0, stop=100, num=25, endpoint=False)\n",
    "array_lineal = array_lineal.reshape(5,5)\n",
    "print(array_lineal, \"\\n\")\n",
    "print(np.diag(array_lineal), \"\\n\")#Obtenemos la diagonal principal\n",
    "print(np.diag(array_lineal, k=1))#Gracias al parametro k obtenemos el la diagonal de arriba"
   ]
  },
  {
   "cell_type": "code",
   "execution_count": 68,
   "metadata": {},
   "outputs": [
    {
     "name": "stdout",
     "output_type": "stream",
     "text": [
      "[[5 5 5 5 5]\n",
      " [5 5 5 5 5]\n",
      " [5 5 5 5 5]\n",
      " [5 5 5 5 5]] \n",
      "\n",
      "[[ 0.  4.  8. 12. 16.]\n",
      " [20. 24. 28. 32. 36.]\n",
      " [40. 44. 48. 52. 56.]\n",
      " [60. 64. 68. 72. 76.]\n",
      " [80. 84. 88. 92. 96.]\n",
      " [ 5.  5.  5.  5.  5.]\n",
      " [ 5.  5.  5.  5.  5.]\n",
      " [ 5.  5.  5.  5.  5.]\n",
      " [ 5.  5.  5.  5.  5.]] \n",
      "\n",
      "[[ 0. 20. 40. 60. 80.  5.  5.  5.  5.]\n",
      " [ 4. 24. 44. 64. 84.  5.  5.  5.  5.]\n",
      " [ 8. 28. 48. 68. 88.  5.  5.  5.  5.]\n",
      " [12. 32. 52. 72. 92.  5.  5.  5.  5.]\n",
      " [16. 36. 56. 76. 96.  5.  5.  5.  5.]]\n"
     ]
    }
   ],
   "source": [
    "#Ejercicio2: Hay que crear una matriz de 4 x 5 con el valor repetido 5. Unimos esta matriz a la del ejercicio anterior\n",
    "#para conseguir dos nuevas matrices una de 5 x 9 y otra de 9 x 5\n",
    "\n",
    "matriz_5 = np.full(shape=(4,5), fill_value=5)\n",
    "print(matriz_5, \"\\n\")\n",
    "matriz_concatenada = np.concatenate((array_lineal,matriz_5), axis=0)\n",
    "print(matriz_concatenada, \"\\n\")\n",
    "print(matriz_concatenada.T)\n",
    "\n",
    "\n"
   ]
  },
  {
   "cell_type": "code",
   "execution_count": 69,
   "metadata": {},
   "outputs": [
    {
     "name": "stdout",
     "output_type": "stream",
     "text": [
      "['este es un curso de openwebinars'] \n",
      "\n",
      "[list(['este', 'es', 'un', 'curso', 'de', 'openwebinars'])] \n",
      "\n",
      "['Este' 'Es' 'Un' 'Curso' 'De' 'Openwebinars'] \n",
      "\n",
      "['Este' 'Es']\n"
     ]
    }
   ],
   "source": [
    "#Ejercicio3: Tenemos un array inicial:\n",
    "array_inicial = np.array(['    este es un curso de openwebinars     '],dtype=np.str_)\n",
    "#Tenmos que convertirlo de tal manera que eliminemos los espacios, hagamos un array palabras y cada palabra empiece por mayúscula.\n",
    "array_sin_espacios = cha.strip(array_inicial)\n",
    "print(array_sin_espacios, \"\\n\")#Eliminamos los espacios\n",
    "array_por_palabras = cha.split(array_sin_espacios, sep=' ')\n",
    "print(array_por_palabras, \"\\n\")#Separamos por palabras el array\n",
    "array_por_palabras = np.array(array_por_palabras[0]) #Esto convierte el array de tipo lista a un array de String dado que obtenemos una lista de lista,\n",
    "#la posición 0 es el array entero, es decir de la lista la posición 0 es la lista/array con nuestras palabras.\n",
    "array_capitalize = cha.capitalize(array_por_palabras)\n",
    "print(array_capitalize, \"\\n\")#Hacemos que cada letra inicial de cada palabra este en mayuscula\n",
    "print(array_capitalize[cha.startswith(array_capitalize, prefix='E')])"
   ]
  },
  {
   "cell_type": "code",
   "execution_count": 73,
   "metadata": {},
   "outputs": [
    {
     "name": "stdout",
     "output_type": "stream",
     "text": [
      "[[ 7  5 18]\n",
      " [ 9  7 25]\n",
      " [ 4  2 10]] \n",
      "\n",
      "[[12  2  7]\n",
      " [ 9  2  6]\n",
      " [16  2 10]] \n",
      "\n",
      "[[6 2 4]\n",
      " [8 2 6]\n",
      " [4 0 2]] \n",
      "\n",
      "24 \n",
      "\n",
      "24\n"
     ]
    },
    {
     "data": {
      "text/plain": [
       "array([[3, 1, 2],\n",
       "       [4, 1, 3],\n",
       "       [2, 0, 1]])"
      ]
     },
     "execution_count": 73,
     "metadata": {},
     "output_type": "execute_result"
    }
   ],
   "source": [
    "#Ejercicio 4: Tenemos dos matrices (ahora las hacemos) tenemos que operar con dichas matrices.\n",
    "a = np.array([[3,1,2],[4,1,3],[2,0,1]])\n",
    "b = np.array([[2,0,3],[1,1,1],[0,2,4]])\n",
    "print(np.dot(a,b), \"\\n\")\n",
    "print(np.dot(b,a), \"\\n\")\n",
    "#La razon por la que no dan lo mismo es porque el orden de los factores si altera el resultado\n",
    "#en las multiplicaciones matriciales, es decir no es conmutativo.\n",
    "print(np.dot(a,2), \"\\n\") #Multiplica la matriz por 2\n",
    "#También vale esto: a * 2\n",
    "print(np.vdot(a,b), \"\\n\")\n",
    "print(np.vdot(b,a))\n",
    " "
   ]
  },
  {
   "cell_type": "code",
   "execution_count": 77,
   "metadata": {},
   "outputs": [
    {
     "name": "stdout",
     "output_type": "stream",
     "text": [
      "[[ 89  21  57]\n",
      " [114  27  73]\n",
      " [ 42  10  27]] \n",
      "\n",
      "1.0 \n",
      "\n",
      "[ 6. -1. -7.]\n"
     ]
    }
   ],
   "source": [
    "#Ejercicio 5: Con la matriz \"a\" que hemos definido antes vamos a operar:\n",
    "print(al.matrix_power(a,3), \"\\n\")#Elevamos al cubo la matiz con matrix_power\n",
    "print(al.det(a), \"\\n\")\n",
    "\n",
    "y = np.array([3,2,5])\n",
    "solucion_sistema_ecuacion = al.solve(a,y)\n",
    "print(solucion_sistema_ecuacion)"
   ]
  }
 ],
 "metadata": {
  "kernelspec": {
   "display_name": "Python 3",
   "language": "python",
   "name": "python3"
  },
  "language_info": {
   "codemirror_mode": {
    "name": "ipython",
    "version": 3
   },
   "file_extension": ".py",
   "mimetype": "text/x-python",
   "name": "python",
   "nbconvert_exporter": "python",
   "pygments_lexer": "ipython3",
   "version": "3.10.6"
  }
 },
 "nbformat": 4,
 "nbformat_minor": 2
}
