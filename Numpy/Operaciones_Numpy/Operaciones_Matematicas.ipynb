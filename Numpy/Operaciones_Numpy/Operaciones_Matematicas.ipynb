{
 "cells": [
  {
   "cell_type": "markdown",
   "metadata": {
    "vscode": {
     "languageId": "plaintext"
    }
   },
   "source": [
    "# Operaciones Matemáticas"
   ]
  },
  {
   "cell_type": "code",
   "execution_count": 1,
   "metadata": {},
   "outputs": [],
   "source": [
    "import numpy as np"
   ]
  },
  {
   "cell_type": "code",
   "execution_count": 9,
   "metadata": {},
   "outputs": [
    {
     "name": "stdout",
     "output_type": "stream",
     "text": [
      "2.493 \n",
      "\n",
      "[[1.23 2.79 3.  ]\n",
      " [1.79 8.55 4.  ]] \n",
      "\n",
      "[[2. 3. 3.]\n",
      " [2. 9. 4.]] \n",
      "\n",
      "[[1. 2. 3.]\n",
      " [1. 8. 4.]]\n"
     ]
    }
   ],
   "source": [
    "#Redondeo\n",
    "a = 2.4926\n",
    "print(np.round(a, 3),\"\\n\")#El segundo parámetro nos indica a cuantos números decimales queremos redondear.\n",
    "b = np.array([[1.234,2.789,3], [1.789, 8.546,4]])\n",
    "print(np.round(b,2), \"\\n\")#Podemos redondear también arrays enteros\n",
    "print(np.ceil(b), \"\\n\")#Va a redondear al siguiente entero\n",
    "print(np.floor(b))#Va a redondear al entero anterior"
   ]
  },
  {
   "cell_type": "code",
   "execution_count": 17,
   "metadata": {},
   "outputs": [
    {
     "name": "stdout",
     "output_type": "stream",
     "text": [
      "24 \n",
      "\n",
      "[15 48] \n",
      "\n",
      "[ 2 12 30] \n",
      "\n",
      "9 \n",
      "\n",
      "[ 9 12] \n",
      "\n",
      "[ 3  7 11]\n"
     ]
    }
   ],
   "source": [
    "c = np.array([2,3,4])\n",
    "d = np.array([[1,2],[3,4],[5,6]])\n",
    "print(np.prod(c),\"\\n\") #Va a multiplicar todos los elementos de ese array en ordén\n",
    "print(np.prod(d, axis=0),\"\\n\")#Va a multiplicar en base a las filas(1*3*5, 2*4*6)\n",
    "print(np.prod(d, axis=1),\"\\n\")#Va a multiplicar en base a las columnas(1*2, 3*4, 5*6)\n",
    "print(np.sum(c),\"\\n\")#Va a sumar todos los elementos de ese array en ordén\n",
    "print(np.sum(d, axis=0),\"\\n\")#Va a sumar en base a las filas(1+3+5, 2+4+6)\n",
    "print(np.sum(d, axis=1))#Va a sumar en base a las columnas(1+2, 3+4, 5+6) "
   ]
  },
  {
   "cell_type": "code",
   "execution_count": null,
   "metadata": {},
   "outputs": [
    {
     "name": "stdout",
     "output_type": "stream",
     "text": [
      "[ 7.3890561  20.08553692 54.59815003] \n",
      "\n",
      "[2. 3. 4.] \n",
      "\n",
      "[0.30103    0.47712125 0.60205999] \n",
      "\n",
      "[1.        1.5849625 2.       ] \n",
      "\n"
     ]
    }
   ],
   "source": [
    "#Logaritmos y exponentes //El logaritmo no es mas que averiguar el número al que se eleva una base\n",
    "#Es importante usar logaritmos en los análisis exploratorios de los datasets en pos de buscar una distribución normal que\n",
    "#facilite el entrenamiento de un modelo de ML.\n",
    "print(np.exp(c),\"\\n\")#Esto nos da los resultados de elevar el número e a los valores de la matriz\n",
    "p = np.power(np.e, c)#Da el mismo resultado que la operación de arriba\n",
    "print(np.log(p), \"\\n\")#Le aplicamos el logaritmo neperiano y volvemos a la matriz inicial dado que el logaritmo neperiano es en base e.\n",
    "print(np.log10(c), \"\\n\")#El logaritmo en base 10 de un número nos da como resultado el número al que elevamos 10 \n",
    "#para que de como resultado dicho número \n",
    "print(np.log2(c), \"\\n\")#El logaritmo en base 2 de un número nos da como resultado el número al que elevamos 2 \n",
    "#para que de como resultado dicho número. Este es muy importante ya que nos da el número de bits que necesitamos para almacenar\n",
    "#un dato."
   ]
  },
  {
   "cell_type": "code",
   "execution_count": 28,
   "metadata": {},
   "outputs": [
    {
     "name": "stdout",
     "output_type": "stream",
     "text": [
      "[[ 6  8 10]\n",
      " [ 9 11 13]] \n",
      "\n",
      "[[-4 -4 -4]\n",
      " [-1 -1 -1]] \n",
      "\n",
      "[[ 5 12 21]\n",
      " [20 30 42]] \n",
      "\n",
      "[[0.2        0.33333333 0.42857143]\n",
      " [0.8        0.83333333 0.85714286]]\n"
     ]
    }
   ],
   "source": [
    "#Operaciones aritméticas\n",
    "#suma\n",
    "v = np.array([[1,2,3], [4,5,6]])\n",
    "g = np.array([5,6,7])\n",
    "print(np.add(v,g), \"\\n\")#El array v es multidimensional y lo que hacemos es sumarle a cada fila del array v el array g.\n",
    "print(np.subtract(v,g), \"\\n\")#Aqui lo que hacemos es restar\n",
    "print(np.multiply(v,g), \"\\n\")#Multiplicamos\n",
    "print(np.divide(v,g))#Dividimos\n"
   ]
  }
 ],
 "metadata": {
  "kernelspec": {
   "display_name": "Python 3",
   "language": "python",
   "name": "python3"
  },
  "language_info": {
   "codemirror_mode": {
    "name": "ipython",
    "version": 3
   },
   "file_extension": ".py",
   "mimetype": "text/x-python",
   "name": "python",
   "nbconvert_exporter": "python",
   "pygments_lexer": "ipython3",
   "version": "3.10.6"
  }
 },
 "nbformat": 4,
 "nbformat_minor": 2
}
