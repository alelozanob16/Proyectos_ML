{
 "cells": [
  {
   "cell_type": "markdown",
   "metadata": {},
   "source": [
    "# Máscaras con numpy.ma"
   ]
  },
  {
   "cell_type": "code",
   "execution_count": 2,
   "metadata": {},
   "outputs": [],
   "source": [
    "import numpy as np\n",
    "import numpy.ma as ma"
   ]
  },
  {
   "cell_type": "code",
   "execution_count": 7,
   "metadata": {},
   "outputs": [
    {
     "data": {
      "text/plain": [
       "np.int64(1)"
      ]
     },
     "execution_count": 7,
     "metadata": {},
     "output_type": "execute_result"
    }
   ],
   "source": [
    "x = np.array([1, 2, 3, -1, 4])\n",
    "x\n",
    "mask_array = ma.masked_array(x, mask=[0, 0, 0, 1, 0])\n",
    "mask_array\n",
    "x.min()\n",
    "mask_array.min()\n",
    "\n",
    "# En este pequeño ejemplo, se puede ver como funcionan las mascaras en numpy.\n",
    "# Se crea un array x con 5 elementos, y se crea una mascara de 5 elementos.\n",
    "# Lo que hace la máscara es ocultar los valores que nosotros queremos, en este caso el -1.\n",
    "# De esa manera la máscara enmascara el -1 (de ahí el true), es decir en un mask array el true es lo que se oculta.\n",
    "# Y gracias a enmascarar dicho valor pues podemos trabajar sin ellos."
   ]
  },
  {
   "cell_type": "code",
   "execution_count": 19,
   "metadata": {},
   "outputs": [
    {
     "data": {
      "text/plain": [
       "array([1, 2, 3, 1, 4])"
      ]
     },
     "execution_count": 19,
     "metadata": {},
     "output_type": "execute_result"
    }
   ],
   "source": [
    "# En caso de que queramos cambiar los valores de la máscara, podemos hacerlo de la siguiente manera:\n",
    "mask_array[3] is ma.masked\n",
    "mask_array = mask_array.filled(1)\n",
    "mask_array"
   ]
  },
  {
   "cell_type": "code",
   "execution_count": 48,
   "metadata": {},
   "outputs": [
    {
     "data": {
      "text/plain": [
       "masked_array(data=[1, --, --, --, 4],\n",
       "             mask=[False,  True,  True,  True, False],\n",
       "       fill_value=999999)"
      ]
     },
     "execution_count": 48,
     "metadata": {},
     "output_type": "execute_result"
    }
   ],
   "source": [
    "# Algunas funciones utiles de las máscaras son:\n",
    "mask_array = ma.masked_array(x, mask=[0, 0, 0, 1, 0])\n",
    "mask_array.compressed() # Nos devuelve un array sin los valores enmascarados.\n",
    "mask_array.count() # Nos devuelve el número de elementos no enmascarados.\n",
    "mask_array.mean() # Nos devuelve la media de los elementos no enmascarados.\n",
    "mask_array.sum() # Nos devuelve la suma de los elementos no enmascarados.\n",
    "mask_array.var() # Nos devuelve la varianza de los elementos no enmascarados.\n",
    "mask_array.std() # Nos devuelve la desviación estandar de los elementos no enmascarados.\n",
    "mask_array.min() # Nos devuelve el valor mínimo de los elementos no enmascarados.\n",
    "mask_array.max() # Nos devuelve el valor máximo de los elementos no enmascarados.\n",
    "mask_array.ptp() # Nos devuelve el rango de los elementos no enmascarados.\n",
    "mask_array.mask = True # Nos permite cambiar la máscara de un array y enmascarar todos los valores.\n",
    "mask_array.mask = False # Nos permite cambiar la máscara de un array y desenmascarar todos los valores.\n",
    "\n",
    "mask_array = ma.masked_array(x, mask=[0, 0, 0, 1, 0]) # Volvemos a crear el array con la máscara original.\n",
    "ma.masked_equal(mask_array, 2) # Nos devuelve un array con los valores iguales a 2 enmascarados.\n",
    "ma.masked_not_equal(mask_array, 2) # Nos devuelve un array con los valores diferentes a 2 enmascarados.\n",
    "ma.masked_greater(mask_array, 2) # Nos devuelve un array con los valores mayores a 2 enmascarados.\n",
    "ma.masked_greater_equal(mask_array, 2) # Nos devuelve un array con los valores mayores o iguales a 2 enmascarados.\n",
    "ma.masked_less(mask_array, 2) # Nos devuelve un array con los valores menores a 2 enmascarados.\n",
    "ma.masked_less_equal(mask_array, 2) # Nos devuelve un array con los valores menores o iguales a 2 enmascarados.\n",
    "ma.masked_where(mask_array > 3, mask_array) # Es una forma más facil de hacer todas las opciones anteriores.\n",
    "ma.masked_inside(mask_array, 2, 3) # Nos devuelve un array con los valores entre 2 y 3 enmascarados."
   ]
  }
 ],
 "metadata": {
  "kernelspec": {
   "display_name": "Python 3",
   "language": "python",
   "name": "python3"
  },
  "language_info": {
   "codemirror_mode": {
    "name": "ipython",
    "version": 3
   },
   "file_extension": ".py",
   "mimetype": "text/x-python",
   "name": "python",
   "nbconvert_exporter": "python",
   "pygments_lexer": "ipython3",
   "version": "3.10.6"
  }
 },
 "nbformat": 4,
 "nbformat_minor": 2
}
