{
 "cells": [
  {
   "cell_type": "markdown",
   "metadata": {},
   "source": [
    "# Constantes."
   ]
  },
  {
   "cell_type": "code",
   "execution_count": 1,
   "metadata": {},
   "outputs": [],
   "source": [
    "import numpy as np"
   ]
  },
  {
   "cell_type": "code",
   "execution_count": null,
   "metadata": {},
   "outputs": [
    {
     "name": "stdout",
     "output_type": "stream",
     "text": [
      "Valor de pi: 3.141592653589793\n",
      "Valor de infiito: inf\n",
      "Valor de infinito negativo: -inf\n",
      "True\n",
      "nan\n",
      "True\n"
     ]
    }
   ],
   "source": [
    "# Existen una serie de valores constantes que se pueden utilizar en numpy\n",
    "print(\"Valor de pi:\", np.pi)# Valor de PI\n",
    "print(\"Valor de infiito:\", np.inf)# Valor de infinito\n",
    "print(\"Valor de infinito negativo:\", -np.inf)# Valor en negativo de infinito\n",
    "print(np.isinf(np.inf))# Comprueba si es infinito\n",
    "print(np.inf + -np.inf)# Una suma entre un valor positivo y negativo de infinito es un valor no definido(nan)\n",
    "print(np.isfinite(np.pi))# Comprueba si es un valor finito"
   ]
  }
 ],
 "metadata": {
  "kernelspec": {
   "display_name": "Python 3",
   "language": "python",
   "name": "python3"
  },
  "language_info": {
   "codemirror_mode": {
    "name": "ipython",
    "version": 3
   },
   "file_extension": ".py",
   "mimetype": "text/x-python",
   "name": "python",
   "nbconvert_exporter": "python",
   "pygments_lexer": "ipython3",
   "version": "3.10.6"
  }
 },
 "nbformat": 4,
 "nbformat_minor": 2
}
