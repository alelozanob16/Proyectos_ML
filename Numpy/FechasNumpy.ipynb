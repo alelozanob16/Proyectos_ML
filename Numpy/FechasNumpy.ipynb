{
 "cells": [
  {
   "cell_type": "markdown",
   "metadata": {},
   "source": [
    "# Fechas en Numpy"
   ]
  },
  {
   "cell_type": "code",
   "execution_count": 18,
   "metadata": {},
   "outputs": [
    {
     "name": "stdout",
     "output_type": "stream",
     "text": [
      "El primer array de prueba de fecha es: 2020-07-01, 2020-07-02, 2020-07-03, 2020-07-04, 2020-07-05\n",
      "El primer array de rango por semanas es: 2020-06-25, 2020-07-02, 2020-07-09, 2020-07-16, 2020-07-23\n"
     ]
    }
   ],
   "source": [
    "# Lo primero que vamos a crear es un array de tipo fecha en numpy.\n",
    "\n",
    "import numpy as np\n",
    "\n",
    "fecha_prueba = np.array(['2020-07-01', '2020-07-02', '2020-07-03', '2020-07-04', '2020-07-05'], dtype='datetime64')# Cinco primeros días de julio.\n",
    "print('El primer array de prueba de fecha es: ' + ', ' .join(map(str,fecha_prueba)))\n",
    "\n",
    "# Ahora vamos a crear un array de tipo fecha con un rango de fechas.\n",
    "fecha_rango = np.arange('2020-07', '2020-08', dtype='datetime64[W]')#Con la 'W' marcamos que queremos que el rango sea semanal.\n",
    "print(\"El primer array de rango por semanas es: \" + \", \".join(map(str, fecha_rango)))\n",
    "#El .join se usa como una funciión de un objeto string\n",
    "#para concatenar los elementos de un iterable, en este caso, el array de fecha_rango.\n",
    "#El map se usa para aplicar una función a todos los elementos de un iterable dado.\n",
    "#En este caso, la función es str, que convierte los elementos del array en strings.\n"
   ]
  },
  {
   "cell_type": "code",
   "execution_count": null,
   "metadata": {},
   "outputs": [
    {
     "name": "stdout",
     "output_type": "stream",
     "text": [
      "Si solo se especifica el año en la fecha, se toma por defecto el primer día del año.\n"
     ]
    }
   ],
   "source": [
    "#Vamos a comparar las fechas de arrays.\n",
    "booleano = False\n",
    "if(np.datetime64('2020') == np.datetime64('2020-01-01')):\n",
    "    print(\"Si solo se especifica el año en la fecha, se toma por defecto el primer día del año.\")\n",
    " "
   ]
  },
  {
   "cell_type": "code",
   "execution_count": 32,
   "metadata": {},
   "outputs": [
    {
     "name": "stdout",
     "output_type": "stream",
     "text": [
      "Ahora le hemos añadido una semana a todas las fechas que teníamos: 2020-07-02, 2020-07-09, 2020-07-16, 2020-07-23, 2020-07-30\n",
      "La diferencia entre las dos fechas es de: 48 weeks\n"
     ]
    }
   ],
   "source": [
    "#Operaciones con fechas.\n",
    "def sumar_semanas(array_fechas, suma):\n",
    "    for fecha in array_fechas:\n",
    "        print(\"Ahora le hemos añadido una semana a todas las fechas que teníamos: \" + \", \".join(map(str, array_fechas + suma)))\n",
    "        break\n",
    "sumar_semana = np.timedelta64(1, 'W')\n",
    "sumar_semanas(fecha_rango, sumar_semana)\n",
    "            \n",
    "#Vamos a calcular la diferencia de días entre dos fechas.\n",
    "a = np.datetime64('2020-12-05') - np.datetime64('2020-01-01')#Nos devuelve un time delta con la diferencia de fechas en días\n",
    "b = np.timedelta64(a, 'W')#Nos devuelve la diferencia en semanas en esta caso, pero podemos ponerle días, meses, años, horas, minutos, segundos, milisegundos, microsegundos y nanosegundos.\n",
    "print(\"La diferencia entre las dos fechas es de: \" + str(b))\n",
    "\n",
    "#En definitiva, los timedelta nos sirven para operar con las fechas, sumar o restar días, semanas, meses, años, horas, minutos, segundos, milisegundos, microsegundos y nanosegundos.\n",
    "#Es más, si restamos o sumamos directamente con datetime64, nos dará como resultado un timedelta64 con la diferencia de fechas en días.\n",
    "#En días porque esa es la unidad por defecto, pero podemos especificar la unidad que queramos."
   ]
  },
  {
   "cell_type": "code",
   "execution_count": 43,
   "metadata": {},
   "outputs": [
    {
     "data": {
      "text/plain": [
       "np.datetime64('2025-01-06')"
      ]
     },
     "execution_count": 43,
     "metadata": {},
     "output_type": "execute_result"
    }
   ],
   "source": [
    "#Numpy también trabaja con los días laborables.\n",
    "\n",
    "np.busday_count('2020-07', '2020-08')#Nos devuelve el número de días laborables entre dos fechas.\n",
    "np.is_busday('2025-01-04') #Nos devuelve si un día es laborable o no.\n",
    "np.busday_offset('2025-01-03', 1)#Nos devuelve el siguiente día laborable.\n"
   ]
  }
 ],
 "metadata": {
  "kernelspec": {
   "display_name": "Python 3",
   "language": "python",
   "name": "python3"
  },
  "language_info": {
   "codemirror_mode": {
    "name": "ipython",
    "version": 3
   },
   "file_extension": ".py",
   "mimetype": "text/x-python",
   "name": "python",
   "nbconvert_exporter": "python",
   "pygments_lexer": "ipython3",
   "version": "3.10.6"
  }
 },
 "nbformat": 4,
 "nbformat_minor": 2
}
